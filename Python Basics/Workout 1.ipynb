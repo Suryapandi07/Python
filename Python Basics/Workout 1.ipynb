{
 "cells": [
  {
   "cell_type": "code",
   "execution_count": 18,
   "id": "e90bfcd3",
   "metadata": {},
   "outputs": [],
   "source": [
    "### Used keys and values for login"
   ]
  },
  {
   "cell_type": "code",
   "execution_count": 16,
   "id": "b8b992c2",
   "metadata": {},
   "outputs": [
    {
     "name": "stdout",
     "output_type": "stream",
     "text": [
      "Enter the username: Sree\n",
      "User Exist\n",
      "Enter Your Password: 1111\n",
      "Incorrect Password\n"
     ]
    }
   ],
   "source": [
    "database = {\"Sree\":2001,\"vipin\":2002,\"abi\":1999}\n",
    "username = input(\"Enter the username: \")\n",
    "\n",
    "if username in database.keys():\n",
    "    print(\"User Exist\")\n",
    "    password = int(input(\"Enter Your Password: \"))\n",
    "    if password == database[username]:\n",
    "        print(\"Welcome\",username)\n",
    "    else:\n",
    "        print(\"Incorrect Password\")\n",
    "else:\n",
    "    print(\"User name not exist\")"
   ]
  },
  {
   "cell_type": "code",
   "execution_count": 17,
   "id": "7c4a483a",
   "metadata": {},
   "outputs": [
    {
     "name": "stdout",
     "output_type": "stream",
     "text": [
      "Enter the username: Sree\n",
      "User Exist\n",
      "Enter Your Password: 2001\n",
      "Welcome Sree\n"
     ]
    }
   ],
   "source": [
    "database = {\"Sree\":2001,\"vipin\":2002,\"abi\":1999}\n",
    "username = input(\"Enter the username: \")\n",
    "\n",
    "if username in database.keys():\n",
    "    print(\"User Exist\")\n",
    "    password = int(input(\"Enter Your Password: \"))\n",
    "    if password == database[username]:\n",
    "        print(\"Welcome\",username)\n",
    "    else:\n",
    "        print(\"Incorrect Password\")\n",
    "else:\n",
    "    print(\"User name not exist\")"
   ]
  },
  {
   "cell_type": "code",
   "execution_count": null,
   "id": "f960617a",
   "metadata": {},
   "outputs": [],
   "source": [
    "### printing grade"
   ]
  },
  {
   "cell_type": "code",
   "execution_count": 21,
   "id": "c54eb6f3",
   "metadata": {},
   "outputs": [
    {
     "name": "stdout",
     "output_type": "stream",
     "text": [
      "Enter Your Mark: 58\n",
      "Your Grade Is B\n"
     ]
    }
   ],
   "source": [
    "mark = int(input(\"Enter Your Mark: \"))\n",
    "if mark >= 90:\n",
    "    print(\"Your Grade Is A\")\n",
    "elif mark >= 80 and mark <90:\n",
    "    print(\"Your Grade Is B\")\n",
    "elif mark >= 70 and mark <80:\n",
    "    print(\"Your Grade Is B\")   \n",
    "elif mark >= 60 and mark <70:\n",
    "    print(\"Your Grade Is B\")\n",
    "elif mark >= 50 and mark <60:\n",
    "   print(\"Your Grade Is B\")\n",
    "else:\n",
    "    print(\"Emotional Damage your mark is {mark} and you are fail\")\n",
    "    "
   ]
  },
  {
   "cell_type": "code",
   "execution_count": 23,
   "id": "33b77a8d",
   "metadata": {},
   "outputs": [
    {
     "name": "stdout",
     "output_type": "stream",
     "text": [
      "Enter Your Mark: 20\n",
      "Emotional Damage your mark is {mark} and you are fail\n"
     ]
    }
   ],
   "source": [
    "mark = int(input(\"Enter Your Mark: \"))\n",
    "if mark >= 90:\n",
    "    print(\"Your Grade Is A\")\n",
    "elif mark >= 80 and mark <90:\n",
    "    print(\"Your Grade Is B\")\n",
    "elif mark >= 70 and mark <80:\n",
    "    print(\"Your Grade Is C\")   \n",
    "elif mark >= 60 and mark <70:\n",
    "    print(\"Your Grade Is D\")\n",
    "elif mark >= 50 and mark <60:\n",
    "    print(\"Your Grade Is E\")\n",
    "else:\n",
    "    print(\"Emotional Damage your mark is {mark} and you are fail\")\n",
    "    "
   ]
  },
  {
   "cell_type": "code",
   "execution_count": null,
   "id": "241177e9",
   "metadata": {},
   "outputs": [],
   "source": [
    "### Finding the starting index and end index"
   ]
  },
  {
   "cell_type": "code",
   "execution_count": 26,
   "id": "0ae44362",
   "metadata": {},
   "outputs": [],
   "source": [
    "text = \"I am Lionel Messi and the People know i am thr GOAT\""
   ]
  },
  {
   "cell_type": "code",
   "execution_count": 28,
   "id": "6718f881",
   "metadata": {},
   "outputs": [
    {
     "name": "stdout",
     "output_type": "stream",
     "text": [
      "Enter the word: know\n",
      "The Word know is starting from 33 to 36\n"
     ]
    }
   ],
   "source": [
    "a = input(\"Enter the word: \")\n",
    "start = text.find(a)\n",
    "end = start + len(a)-1\n",
    "print(\"The Word {} is starting from {} to {}\".format(a, start, end))\n",
    "\n",
    "    "
   ]
  },
  {
   "cell_type": "code",
   "execution_count": null,
   "id": "8ed3ec78",
   "metadata": {},
   "outputs": [],
   "source": []
  }
 ],
 "metadata": {
  "kernelspec": {
   "display_name": "Python 3 (ipykernel)",
   "language": "python",
   "name": "python3"
  },
  "language_info": {
   "codemirror_mode": {
    "name": "ipython",
    "version": 3
   },
   "file_extension": ".py",
   "mimetype": "text/x-python",
   "name": "python",
   "nbconvert_exporter": "python",
   "pygments_lexer": "ipython3",
   "version": "3.9.13"
  }
 },
 "nbformat": 4,
 "nbformat_minor": 5
}
