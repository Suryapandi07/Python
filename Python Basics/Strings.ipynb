{
 "cells": [
  {
   "cell_type": "markdown",
   "metadata": {},
   "source": [
    "# Strings"
   ]
  },
  {
   "cell_type": "code",
   "execution_count": 2,
   "metadata": {},
   "outputs": [],
   "source": [
    "text = \"\"\"The University of Hawaii began using radio to send digital information as early as 1971,using ALOHAnet. \n",
    "Friedhelm Hillebrand conceptualised SMS in 1984 while working for Deutsche Telekom. Sitting at a typewriter at home, \n",
    "Hillebrand typed out random sentences and counted every letter, number, punctuation, and space. \n",
    "Almost every time, the messages contained fewer than 160 characters, thus giving the basis for the \n",
    "limit one could type via text messaging. With Bernard Ghillebaert of France Télécom, he developed \n",
    "a proposal for the GSM (Groupe Spécial Mobile) meeting in February 1985 in Oslo. \n",
    "The first technical solution evolved in a GSM subgroup under the leadership of Finn Trosby. \n",
    "It was further developed under the leadership of Kevin Holley and Ian Harris (see Short Message Service). \n",
    "SMS forms an integral part of SS7 (Signalling System No. 7). Under SS7, it is a \"state\" with a 160 character data, \n",
    "coded in the ITU-T \"T.56\" text format, that has a \"sequence lead in\" to determine different language codes, \n",
    "and may have special character codes that permits, for example, sending simple graphs as text. \n",
    "This was part of ISDN (Integrated Services Digital Network) and since GSM is based on this, \n",
    "made its way to the mobile phone. Messages could be sent and received on ISDN phones, \n",
    "and these can send SMS to any GSM phone. The possibility of doing something is one thing, \n",
    "implementing it another, but systems existed from 1988 that sent SMS messages to mobile phones (compare ND-NOTIS).\"\"\""
   ]
  },
  {
   "cell_type": "markdown",
   "metadata": {},
   "source": [
    ">  `Question:` How many characters in text"
   ]
  },
  {
   "cell_type": "code",
   "execution_count": 2,
   "metadata": {},
   "outputs": [
    {
     "data": {
      "text/plain": [
       "1507"
      ]
     },
     "execution_count": 2,
     "metadata": {},
     "output_type": "execute_result"
    }
   ],
   "source": [
    "len(text)"
   ]
  },
  {
   "cell_type": "code",
   "execution_count": 3,
   "metadata": {},
   "outputs": [
    {
     "data": {
      "text/plain": [
       "1507"
      ]
     },
     "execution_count": 3,
     "metadata": {},
     "output_type": "execute_result"
    }
   ],
   "source": []
  },
  {
   "cell_type": "markdown",
   "metadata": {},
   "source": [
    ">  `Question:` How many words are there in the \"text\""
   ]
  },
  {
   "cell_type": "code",
   "execution_count": 6,
   "metadata": {},
   "outputs": [
    {
     "data": {
      "text/plain": [
       "244"
      ]
     },
     "execution_count": 6,
     "metadata": {},
     "output_type": "execute_result"
    }
   ],
   "source": [
    "len(text.split())"
   ]
  },
  {
   "cell_type": "code",
   "execution_count": 5,
   "metadata": {},
   "outputs": [
    {
     "data": {
      "text/plain": [
       "244"
      ]
     },
     "execution_count": 5,
     "metadata": {},
     "output_type": "execute_result"
    }
   ],
   "source": []
  },
  {
   "cell_type": "markdown",
   "metadata": {},
   "source": [
    ">  `Question:` How many unique words in the \"text\""
   ]
  },
  {
   "cell_type": "code",
   "execution_count": 7,
   "metadata": {},
   "outputs": [
    {
     "data": {
      "text/plain": [
       "174"
      ]
     },
     "execution_count": 7,
     "metadata": {},
     "output_type": "execute_result"
    }
   ],
   "source": [
    "len(set(text.split()))"
   ]
  },
  {
   "cell_type": "code",
   "execution_count": 7,
   "metadata": {},
   "outputs": [
    {
     "data": {
      "text/plain": [
       "174"
      ]
     },
     "execution_count": 7,
     "metadata": {},
     "output_type": "execute_result"
    }
   ],
   "source": []
  },
  {
   "cell_type": "markdown",
   "metadata": {},
   "source": [
    ">  `Question:` Find Lexical diversity\n",
    "\n",
    "lexical_diversity = (number of words)/(number of unique words)"
   ]
  },
  {
   "cell_type": "code",
   "execution_count": 8,
   "metadata": {},
   "outputs": [
    {
     "data": {
      "text/plain": [
       "1.4022988505747127"
      ]
     },
     "execution_count": 8,
     "metadata": {},
     "output_type": "execute_result"
    }
   ],
   "source": []
  },
  {
   "cell_type": "code",
   "execution_count": 9,
   "metadata": {},
   "outputs": [],
   "source": [
    "lexical_diversity=len(text.split())/len(set(text.split()))"
   ]
  },
  {
   "cell_type": "code",
   "execution_count": 10,
   "metadata": {},
   "outputs": [
    {
     "name": "stdout",
     "output_type": "stream",
     "text": [
      "1.4022988505747127\n"
     ]
    }
   ],
   "source": [
    "print(lexical_diversity)"
   ]
  },
  {
   "cell_type": "code",
   "execution_count": null,
   "metadata": {},
   "outputs": [],
   "source": []
  },
  {
   "cell_type": "code",
   "execution_count": null,
   "metadata": {},
   "outputs": [],
   "source": []
  },
  {
   "cell_type": "markdown",
   "metadata": {},
   "source": [
    ">  `Question:` Count how many \"the\" in text"
   ]
  },
  {
   "cell_type": "code",
   "execution_count": 26,
   "metadata": {},
   "outputs": [],
   "source": [
    "a=text.lower()"
   ]
  },
  {
   "cell_type": "code",
   "execution_count": 27,
   "metadata": {},
   "outputs": [
    {
     "data": {
      "text/plain": [
       "'the university of hawaii began using radio to send digital information as early as 1971,using alohanet. \\nfriedhelm hillebrand conceptualised sms in 1984 while working for deutsche telekom. sitting at a typewriter at home, \\nhillebrand typed out random sentences and counted every letter, number, punctuation, and space. \\nalmost every time, the messages contained fewer than 160 characters, thus giving the basis for the \\nlimit one could type via text messaging. with bernard ghillebaert of france télécom, he developed \\na proposal for the gsm (groupe spécial mobile) meeting in february 1985 in oslo. \\nthe first technical solution evolved in a gsm subgroup under the leadership of finn trosby. \\nit was further developed under the leadership of kevin holley and ian harris (see short message service). \\nsms forms an integral part of ss7 (signalling system no. 7). under ss7, it is a \"state\" with a 160 character data, \\ncoded in the itu-t \"t.56\" text format, that has a \"sequence lead in\" to determine different language codes, \\nand may have special character codes that permits, for example, sending simple graphs as text. \\nthis was part of isdn (integrated services digital network) and since gsm is based on this, \\nmade its way to the mobile phone. messages could be sent and received on isdn phones, \\nand these can send sms to any gsm phone. the possibility of doing something is one thing, \\nimplementing it another, but systems existed from 1988 that sent sms messages to mobile phones (compare nd-notis).'"
      ]
     },
     "execution_count": 27,
     "metadata": {},
     "output_type": "execute_result"
    }
   ],
   "source": [
    "a"
   ]
  },
  {
   "cell_type": "code",
   "execution_count": 28,
   "metadata": {},
   "outputs": [
    {
     "data": {
      "text/plain": [
       "14"
      ]
     },
     "execution_count": 28,
     "metadata": {},
     "output_type": "execute_result"
    }
   ],
   "source": [
    "a.count(\"the\")"
   ]
  },
  {
   "cell_type": "code",
   "execution_count": 10,
   "metadata": {},
   "outputs": [
    {
     "data": {
      "text/plain": [
       "14"
      ]
     },
     "execution_count": 10,
     "metadata": {},
     "output_type": "execute_result"
    }
   ],
   "source": []
  },
  {
   "cell_type": "markdown",
   "metadata": {},
   "source": [
    ">  `Question:` Count how many \"a\" in text"
   ]
  },
  {
   "cell_type": "code",
   "execution_count": 15,
   "metadata": {},
   "outputs": [
    {
     "data": {
      "text/plain": [
       "89"
      ]
     },
     "execution_count": 15,
     "metadata": {},
     "output_type": "execute_result"
    }
   ],
   "source": [
    "text.count('a')"
   ]
  },
  {
   "cell_type": "code",
   "execution_count": 16,
   "metadata": {},
   "outputs": [
    {
     "ename": "TypeError",
     "evalue": "count() takes at least 1 argument (0 given)",
     "output_type": "error",
     "traceback": [
      "\u001b[1;31m---------------------------------------------------------------------------\u001b[0m",
      "\u001b[1;31mTypeError\u001b[0m                                 Traceback (most recent call last)",
      "\u001b[1;32m~\\AppData\\Local\\Temp\\ipykernel_5076\\4011899841.py\u001b[0m in \u001b[0;36m<module>\u001b[1;34m\u001b[0m\n\u001b[1;32m----> 1\u001b[1;33m \u001b[0mtext\u001b[0m\u001b[1;33m.\u001b[0m\u001b[0mcount\u001b[0m\u001b[1;33m(\u001b[0m\u001b[1;33m)\u001b[0m\u001b[1;33m\u001b[0m\u001b[1;33m\u001b[0m\u001b[0m\n\u001b[0m",
      "\u001b[1;31mTypeError\u001b[0m: count() takes at least 1 argument (0 given)"
     ]
    }
   ],
   "source": [
    "text.count()"
   ]
  },
  {
   "cell_type": "markdown",
   "metadata": {},
   "source": [
    ">  `Question:` Extract First 10 words in text"
   ]
  },
  {
   "cell_type": "code",
   "execution_count": 29,
   "metadata": {},
   "outputs": [
    {
     "data": {
      "text/plain": [
       "['The',\n",
       " 'University',\n",
       " 'of',\n",
       " 'Hawaii',\n",
       " 'began',\n",
       " 'using',\n",
       " 'radio',\n",
       " 'to',\n",
       " 'send',\n",
       " 'digital']"
      ]
     },
     "execution_count": 29,
     "metadata": {},
     "output_type": "execute_result"
    }
   ],
   "source": [
    "text.split()[ : 10]"
   ]
  },
  {
   "cell_type": "code",
   "execution_count": 31,
   "metadata": {},
   "outputs": [
    {
     "data": {
      "text/plain": [
       "'The University of Hawaii began using radio to send digital'"
      ]
     },
     "execution_count": 31,
     "metadata": {},
     "output_type": "execute_result"
    }
   ],
   "source": [
    "' '.join(text.split()[ : 10])"
   ]
  },
  {
   "cell_type": "markdown",
   "metadata": {},
   "source": [
    ">  `Question:` Append \" Innomatics Reseach Labs\" after first 10 words in the text"
   ]
  },
  {
   "cell_type": "code",
   "execution_count": 32,
   "metadata": {},
   "outputs": [
    {
     "data": {
      "text/plain": [
       "['The',\n",
       " 'University',\n",
       " 'of',\n",
       " 'Hawaii',\n",
       " 'began',\n",
       " 'using',\n",
       " 'radio',\n",
       " 'to',\n",
       " 'send',\n",
       " 'digital']"
      ]
     },
     "execution_count": 32,
     "metadata": {},
     "output_type": "execute_result"
    }
   ],
   "source": [
    "text.split()[ :10]"
   ]
  },
  {
   "cell_type": "code",
   "execution_count": 39,
   "metadata": {},
   "outputs": [],
   "source": [
    "new_word=' '.join(text.split()[ :10])+(\"Innomatics Reseach Labs\")"
   ]
  },
  {
   "cell_type": "code",
   "execution_count": 40,
   "metadata": {},
   "outputs": [
    {
     "data": {
      "text/plain": [
       "'The University of Hawaii began using radio to send digitalInnomatics Reseach Labs'"
      ]
     },
     "execution_count": 40,
     "metadata": {},
     "output_type": "execute_result"
    }
   ],
   "source": [
    "new_word"
   ]
  },
  {
   "cell_type": "markdown",
   "metadata": {},
   "source": [
    ">  `Question:` Extract First Fourteen (14) character in text"
   ]
  },
  {
   "cell_type": "code",
   "execution_count": 41,
   "metadata": {},
   "outputs": [
    {
     "data": {
      "text/plain": [
       "'The University'"
      ]
     },
     "execution_count": 41,
     "metadata": {},
     "output_type": "execute_result"
    }
   ],
   "source": [
    "text[ :14]"
   ]
  },
  {
   "cell_type": "code",
   "execution_count": 17,
   "metadata": {},
   "outputs": [
    {
     "data": {
      "text/plain": [
       "'The University'"
      ]
     },
     "execution_count": 17,
     "metadata": {},
     "output_type": "execute_result"
    }
   ],
   "source": []
  },
  {
   "cell_type": "markdown",
   "metadata": {},
   "source": [
    ">  `Question:` Extract first Fourteen (14) words in text"
   ]
  },
  {
   "cell_type": "code",
   "execution_count": 42,
   "metadata": {},
   "outputs": [
    {
     "data": {
      "text/plain": [
       "'The University of Hawaii began using radio to send digital information as early as'"
      ]
     },
     "execution_count": 42,
     "metadata": {},
     "output_type": "execute_result"
    }
   ],
   "source": [
    "' '.join(text.split()[ : 14])"
   ]
  },
  {
   "cell_type": "code",
   "execution_count": 19,
   "metadata": {},
   "outputs": [
    {
     "data": {
      "text/plain": [
       "'The University of Hawaii began using radio to send digital information as early as'"
      ]
     },
     "execution_count": 19,
     "metadata": {},
     "output_type": "execute_result"
    }
   ],
   "source": []
  },
  {
   "cell_type": "markdown",
   "metadata": {},
   "source": [
    ">  `Question:` Extract First 10 words in text\n",
    "- Convert every letter into ***upper*** case\n",
    "- Convert every letter into ***lower*** case"
   ]
  },
  {
   "cell_type": "code",
   "execution_count": 5,
   "metadata": {},
   "outputs": [],
   "source": [
    "b=' '.join(text.split()[ : 10])"
   ]
  },
  {
   "cell_type": "code",
   "execution_count": 6,
   "metadata": {},
   "outputs": [
    {
     "data": {
      "text/plain": [
       "'THE UNIVERSITY OF HAWAII BEGAN USING RADIO TO SEND DIGITAL'"
      ]
     },
     "execution_count": 6,
     "metadata": {},
     "output_type": "execute_result"
    }
   ],
   "source": [
    "b.upper()"
   ]
  },
  {
   "cell_type": "code",
   "execution_count": 8,
   "metadata": {},
   "outputs": [
    {
     "data": {
      "text/plain": [
       "'the university of hawaii began using radio to send digital'"
      ]
     },
     "execution_count": 8,
     "metadata": {},
     "output_type": "execute_result"
    }
   ],
   "source": [
    "b.lower()"
   ]
  },
  {
   "cell_type": "code",
   "execution_count": 23,
   "metadata": {},
   "outputs": [
    {
     "data": {
      "text/plain": [
       "'the university of hawaii began using radio to send digital'"
      ]
     },
     "execution_count": 23,
     "metadata": {},
     "output_type": "execute_result"
    }
   ],
   "source": []
  },
  {
   "cell_type": "markdown",
   "metadata": {},
   "source": [
    ">  `Question:`  Find the list of letter starting with \n",
    "- u\n",
    "- o\n",
    "> `hint - You need to use for loop for this`"
   ]
  },
  {
   "cell_type": "code",
   "execution_count": 31,
   "metadata": {},
   "outputs": [],
   "source": [
    "ab=text.lower()"
   ]
  },
  {
   "cell_type": "code",
   "execution_count": 32,
   "metadata": {},
   "outputs": [
    {
     "data": {
      "text/plain": [
       "'the university of hawaii began using radio to send digital information as early as 1971,using alohanet. \\nfriedhelm hillebrand conceptualised sms in 1984 while working for deutsche telekom. sitting at a typewriter at home, \\nhillebrand typed out random sentences and counted every letter, number, punctuation, and space. \\nalmost every time, the messages contained fewer than 160 characters, thus giving the basis for the \\nlimit one could type via text messaging. with bernard ghillebaert of france télécom, he developed \\na proposal for the gsm (groupe spécial mobile) meeting in february 1985 in oslo. \\nthe first technical solution evolved in a gsm subgroup under the leadership of finn trosby. \\nit was further developed under the leadership of kevin holley and ian harris (see short message service). \\nsms forms an integral part of ss7 (signalling system no. 7). under ss7, it is a \"state\" with a 160 character data, \\ncoded in the itu-t \"t.56\" text format, that has a \"sequence lead in\" to determine different language codes, \\nand may have special character codes that permits, for example, sending simple graphs as text. \\nthis was part of isdn (integrated services digital network) and since gsm is based on this, \\nmade its way to the mobile phone. messages could be sent and received on isdn phones, \\nand these can send sms to any gsm phone. the possibility of doing something is one thing, \\nimplementing it another, but systems existed from 1988 that sent sms messages to mobile phones (compare nd-notis).'"
      ]
     },
     "execution_count": 32,
     "metadata": {},
     "output_type": "execute_result"
    }
   ],
   "source": [
    "ab"
   ]
  },
  {
   "cell_type": "code",
   "execution_count": 33,
   "metadata": {},
   "outputs": [
    {
     "data": {
      "text/plain": [
       "['the',\n",
       " 'university',\n",
       " 'of',\n",
       " 'hawaii',\n",
       " 'began',\n",
       " 'using',\n",
       " 'radio',\n",
       " 'to',\n",
       " 'send',\n",
       " 'digital',\n",
       " 'information',\n",
       " 'as',\n",
       " 'early',\n",
       " 'as',\n",
       " '1971,using',\n",
       " 'alohanet.',\n",
       " 'friedhelm',\n",
       " 'hillebrand',\n",
       " 'conceptualised',\n",
       " 'sms',\n",
       " 'in',\n",
       " '1984',\n",
       " 'while',\n",
       " 'working',\n",
       " 'for',\n",
       " 'deutsche',\n",
       " 'telekom.',\n",
       " 'sitting',\n",
       " 'at',\n",
       " 'a',\n",
       " 'typewriter',\n",
       " 'at',\n",
       " 'home,',\n",
       " 'hillebrand',\n",
       " 'typed',\n",
       " 'out',\n",
       " 'random',\n",
       " 'sentences',\n",
       " 'and',\n",
       " 'counted',\n",
       " 'every',\n",
       " 'letter,',\n",
       " 'number,',\n",
       " 'punctuation,',\n",
       " 'and',\n",
       " 'space.',\n",
       " 'almost',\n",
       " 'every',\n",
       " 'time,',\n",
       " 'the',\n",
       " 'messages',\n",
       " 'contained',\n",
       " 'fewer',\n",
       " 'than',\n",
       " '160',\n",
       " 'characters,',\n",
       " 'thus',\n",
       " 'giving',\n",
       " 'the',\n",
       " 'basis',\n",
       " 'for',\n",
       " 'the',\n",
       " 'limit',\n",
       " 'one',\n",
       " 'could',\n",
       " 'type',\n",
       " 'via',\n",
       " 'text',\n",
       " 'messaging.',\n",
       " 'with',\n",
       " 'bernard',\n",
       " 'ghillebaert',\n",
       " 'of',\n",
       " 'france',\n",
       " 'télécom,',\n",
       " 'he',\n",
       " 'developed',\n",
       " 'a',\n",
       " 'proposal',\n",
       " 'for',\n",
       " 'the',\n",
       " 'gsm',\n",
       " '(groupe',\n",
       " 'spécial',\n",
       " 'mobile)',\n",
       " 'meeting',\n",
       " 'in',\n",
       " 'february',\n",
       " '1985',\n",
       " 'in',\n",
       " 'oslo.',\n",
       " 'the',\n",
       " 'first',\n",
       " 'technical',\n",
       " 'solution',\n",
       " 'evolved',\n",
       " 'in',\n",
       " 'a',\n",
       " 'gsm',\n",
       " 'subgroup',\n",
       " 'under',\n",
       " 'the',\n",
       " 'leadership',\n",
       " 'of',\n",
       " 'finn',\n",
       " 'trosby.',\n",
       " 'it',\n",
       " 'was',\n",
       " 'further',\n",
       " 'developed',\n",
       " 'under',\n",
       " 'the',\n",
       " 'leadership',\n",
       " 'of',\n",
       " 'kevin',\n",
       " 'holley',\n",
       " 'and',\n",
       " 'ian',\n",
       " 'harris',\n",
       " '(see',\n",
       " 'short',\n",
       " 'message',\n",
       " 'service).',\n",
       " 'sms',\n",
       " 'forms',\n",
       " 'an',\n",
       " 'integral',\n",
       " 'part',\n",
       " 'of',\n",
       " 'ss7',\n",
       " '(signalling',\n",
       " 'system',\n",
       " 'no.',\n",
       " '7).',\n",
       " 'under',\n",
       " 'ss7,',\n",
       " 'it',\n",
       " 'is',\n",
       " 'a',\n",
       " '\"state\"',\n",
       " 'with',\n",
       " 'a',\n",
       " '160',\n",
       " 'character',\n",
       " 'data,',\n",
       " 'coded',\n",
       " 'in',\n",
       " 'the',\n",
       " 'itu-t',\n",
       " '\"t.56\"',\n",
       " 'text',\n",
       " 'format,',\n",
       " 'that',\n",
       " 'has',\n",
       " 'a',\n",
       " '\"sequence',\n",
       " 'lead',\n",
       " 'in\"',\n",
       " 'to',\n",
       " 'determine',\n",
       " 'different',\n",
       " 'language',\n",
       " 'codes,',\n",
       " 'and',\n",
       " 'may',\n",
       " 'have',\n",
       " 'special',\n",
       " 'character',\n",
       " 'codes',\n",
       " 'that',\n",
       " 'permits,',\n",
       " 'for',\n",
       " 'example,',\n",
       " 'sending',\n",
       " 'simple',\n",
       " 'graphs',\n",
       " 'as',\n",
       " 'text.',\n",
       " 'this',\n",
       " 'was',\n",
       " 'part',\n",
       " 'of',\n",
       " 'isdn',\n",
       " '(integrated',\n",
       " 'services',\n",
       " 'digital',\n",
       " 'network)',\n",
       " 'and',\n",
       " 'since',\n",
       " 'gsm',\n",
       " 'is',\n",
       " 'based',\n",
       " 'on',\n",
       " 'this,',\n",
       " 'made',\n",
       " 'its',\n",
       " 'way',\n",
       " 'to',\n",
       " 'the',\n",
       " 'mobile',\n",
       " 'phone.',\n",
       " 'messages',\n",
       " 'could',\n",
       " 'be',\n",
       " 'sent',\n",
       " 'and',\n",
       " 'received',\n",
       " 'on',\n",
       " 'isdn',\n",
       " 'phones,',\n",
       " 'and',\n",
       " 'these',\n",
       " 'can',\n",
       " 'send',\n",
       " 'sms',\n",
       " 'to',\n",
       " 'any',\n",
       " 'gsm',\n",
       " 'phone.',\n",
       " 'the',\n",
       " 'possibility',\n",
       " 'of',\n",
       " 'doing',\n",
       " 'something',\n",
       " 'is',\n",
       " 'one',\n",
       " 'thing,',\n",
       " 'implementing',\n",
       " 'it',\n",
       " 'another,',\n",
       " 'but',\n",
       " 'systems',\n",
       " 'existed',\n",
       " 'from',\n",
       " '1988',\n",
       " 'that',\n",
       " 'sent',\n",
       " 'sms',\n",
       " 'messages',\n",
       " 'to',\n",
       " 'mobile',\n",
       " 'phones',\n",
       " '(compare',\n",
       " 'nd-notis).']"
      ]
     },
     "execution_count": 33,
     "metadata": {},
     "output_type": "execute_result"
    }
   ],
   "source": [
    "ab.split()"
   ]
  },
  {
   "cell_type": "code",
   "execution_count": 34,
   "metadata": {},
   "outputs": [],
   "source": [
    "c=set(ab.split())"
   ]
  },
  {
   "cell_type": "code",
   "execution_count": 35,
   "metadata": {},
   "outputs": [
    {
     "data": {
      "text/plain": [
       "{'\"sequence',\n",
       " '\"state\"',\n",
       " '\"t.56\"',\n",
       " '(compare',\n",
       " '(groupe',\n",
       " '(integrated',\n",
       " '(see',\n",
       " '(signalling',\n",
       " '160',\n",
       " '1971,using',\n",
       " '1984',\n",
       " '1985',\n",
       " '1988',\n",
       " '7).',\n",
       " 'a',\n",
       " 'almost',\n",
       " 'alohanet.',\n",
       " 'an',\n",
       " 'and',\n",
       " 'another,',\n",
       " 'any',\n",
       " 'as',\n",
       " 'at',\n",
       " 'based',\n",
       " 'basis',\n",
       " 'be',\n",
       " 'began',\n",
       " 'bernard',\n",
       " 'but',\n",
       " 'can',\n",
       " 'character',\n",
       " 'characters,',\n",
       " 'coded',\n",
       " 'codes',\n",
       " 'codes,',\n",
       " 'conceptualised',\n",
       " 'contained',\n",
       " 'could',\n",
       " 'counted',\n",
       " 'data,',\n",
       " 'determine',\n",
       " 'deutsche',\n",
       " 'developed',\n",
       " 'different',\n",
       " 'digital',\n",
       " 'doing',\n",
       " 'early',\n",
       " 'every',\n",
       " 'evolved',\n",
       " 'example,',\n",
       " 'existed',\n",
       " 'february',\n",
       " 'fewer',\n",
       " 'finn',\n",
       " 'first',\n",
       " 'for',\n",
       " 'format,',\n",
       " 'forms',\n",
       " 'france',\n",
       " 'friedhelm',\n",
       " 'from',\n",
       " 'further',\n",
       " 'ghillebaert',\n",
       " 'giving',\n",
       " 'graphs',\n",
       " 'gsm',\n",
       " 'harris',\n",
       " 'has',\n",
       " 'have',\n",
       " 'hawaii',\n",
       " 'he',\n",
       " 'hillebrand',\n",
       " 'holley',\n",
       " 'home,',\n",
       " 'ian',\n",
       " 'implementing',\n",
       " 'in',\n",
       " 'in\"',\n",
       " 'information',\n",
       " 'integral',\n",
       " 'is',\n",
       " 'isdn',\n",
       " 'it',\n",
       " 'its',\n",
       " 'itu-t',\n",
       " 'kevin',\n",
       " 'language',\n",
       " 'lead',\n",
       " 'leadership',\n",
       " 'letter,',\n",
       " 'limit',\n",
       " 'made',\n",
       " 'may',\n",
       " 'meeting',\n",
       " 'message',\n",
       " 'messages',\n",
       " 'messaging.',\n",
       " 'mobile',\n",
       " 'mobile)',\n",
       " 'nd-notis).',\n",
       " 'network)',\n",
       " 'no.',\n",
       " 'number,',\n",
       " 'of',\n",
       " 'on',\n",
       " 'one',\n",
       " 'oslo.',\n",
       " 'out',\n",
       " 'part',\n",
       " 'permits,',\n",
       " 'phone.',\n",
       " 'phones',\n",
       " 'phones,',\n",
       " 'possibility',\n",
       " 'proposal',\n",
       " 'punctuation,',\n",
       " 'radio',\n",
       " 'random',\n",
       " 'received',\n",
       " 'send',\n",
       " 'sending',\n",
       " 'sent',\n",
       " 'sentences',\n",
       " 'service).',\n",
       " 'services',\n",
       " 'short',\n",
       " 'simple',\n",
       " 'since',\n",
       " 'sitting',\n",
       " 'sms',\n",
       " 'solution',\n",
       " 'something',\n",
       " 'space.',\n",
       " 'special',\n",
       " 'spécial',\n",
       " 'ss7',\n",
       " 'ss7,',\n",
       " 'subgroup',\n",
       " 'system',\n",
       " 'systems',\n",
       " 'technical',\n",
       " 'telekom.',\n",
       " 'text',\n",
       " 'text.',\n",
       " 'than',\n",
       " 'that',\n",
       " 'the',\n",
       " 'these',\n",
       " 'thing,',\n",
       " 'this',\n",
       " 'this,',\n",
       " 'thus',\n",
       " 'time,',\n",
       " 'to',\n",
       " 'trosby.',\n",
       " 'type',\n",
       " 'typed',\n",
       " 'typewriter',\n",
       " 'télécom,',\n",
       " 'under',\n",
       " 'university',\n",
       " 'using',\n",
       " 'via',\n",
       " 'was',\n",
       " 'way',\n",
       " 'while',\n",
       " 'with',\n",
       " 'working'}"
      ]
     },
     "execution_count": 35,
     "metadata": {},
     "output_type": "execute_result"
    }
   ],
   "source": [
    "c"
   ]
  },
  {
   "cell_type": "code",
   "execution_count": 36,
   "metadata": {},
   "outputs": [
    {
     "name": "stdout",
     "output_type": "stream",
     "text": [
      "['on', 'university', 'oslo.', 'out', 'of', 'under', 'using', 'one']\n"
     ]
    }
   ],
   "source": [
    "result_list = []\n",
    "for item in c:\n",
    "    if item.startswith(('u', 'o')):\n",
    "        result_list.append(item)\n",
    "print(result_list)"
   ]
  },
  {
   "cell_type": "code",
   "execution_count": 29,
   "metadata": {},
   "outputs": [
    {
     "ename": "AttributeError",
     "evalue": "'set' object has no attribute 'lower'",
     "output_type": "error",
     "traceback": [
      "\u001b[1;31m---------------------------------------------------------------------------\u001b[0m",
      "\u001b[1;31mAttributeError\u001b[0m                            Traceback (most recent call last)",
      "\u001b[1;32m~\\AppData\\Local\\Temp\\ipykernel_14468\\2485900863.py\u001b[0m in \u001b[0;36m<module>\u001b[1;34m\u001b[0m\n\u001b[1;32m----> 1\u001b[1;33m \u001b[0mc\u001b[0m\u001b[1;33m.\u001b[0m\u001b[0mlower\u001b[0m\u001b[1;33m(\u001b[0m\u001b[1;33m)\u001b[0m\u001b[1;33m\u001b[0m\u001b[1;33m\u001b[0m\u001b[0m\n\u001b[0m",
      "\u001b[1;31mAttributeError\u001b[0m: 'set' object has no attribute 'lower'"
     ]
    }
   ],
   "source": [
    "c.lower()"
   ]
  },
  {
   "cell_type": "code",
   "execution_count": 37,
   "metadata": {},
   "outputs": [
    {
     "name": "stdout",
     "output_type": "stream",
     "text": [
      "['university', 'under', 'using']\n"
     ]
    }
   ],
   "source": [
    "result_list = []\n",
    "for item in c:\n",
    "    if item.startswith(('u')):\n",
    "        result_list.append(item)\n",
    "print(result_list)        \n",
    "    "
   ]
  },
  {
   "cell_type": "code",
   "execution_count": 38,
   "metadata": {},
   "outputs": [
    {
     "name": "stdout",
     "output_type": "stream",
     "text": [
      "['on', 'oslo.', 'out', 'of', 'one']\n"
     ]
    }
   ],
   "source": [
    "result_list = []\n",
    "for item in c:\n",
    "    if item.startswith(('o')):\n",
    "        result_list.append(item)\n",
    "print(result_list)        \n",
    "    "
   ]
  },
  {
   "cell_type": "code",
   "execution_count": 27,
   "metadata": {},
   "outputs": [
    {
     "name": "stdout",
     "output_type": "stream",
     "text": [
      "List of words staring with o is:\n",
      "{'out', 'of', 'one', 'on', 'oslo.'}\n"
     ]
    }
   ],
   "source": []
  },
  {
   "cell_type": "markdown",
   "metadata": {},
   "source": [
    ">  `Question:` Find the list of letter ending with \n",
    "- e\n",
    "- n\n",
    "> `hint - You need to use for loop for this`"
   ]
  },
  {
   "cell_type": "code",
   "execution_count": 39,
   "metadata": {},
   "outputs": [
    {
     "name": "stdout",
     "output_type": "stream",
     "text": [
      "['while', '(groupe', 'mobile', 'type', '\"sequence', 'the', 'made', 'these', 'message', 'have', 'language', '(see', '(compare', 'deutsche', 'one', 'france', 'since', 'be', 'simple', 'he', 'determine']\n"
     ]
    }
   ],
   "source": [
    "result_list = []\n",
    "for item in c:\n",
    "    if item.endswith(('e')):\n",
    "        result_list.append(item)\n",
    "print(result_list)        \n",
    "    "
   ]
  },
  {
   "cell_type": "code",
   "execution_count": 40,
   "metadata": {},
   "outputs": [
    {
     "name": "stdout",
     "output_type": "stream",
     "text": [
      "['on', 'finn', 'than', 'began', 'solution', 'an', 'kevin', 'ian', 'can', 'isdn', 'in', 'information']\n"
     ]
    }
   ],
   "source": [
    "result_list = []\n",
    "for item in c:\n",
    "    if item.endswith(('n')):\n",
    "        result_list.append(item)\n",
    "print(result_list) "
   ]
  },
  {
   "cell_type": "code",
   "execution_count": 30,
   "metadata": {},
   "outputs": [
    {
     "name": "stdout",
     "output_type": "stream",
     "text": [
      "List of words ends with e is:\n",
      "{'be', 'these', 'deutsche', 'one', 'made', 'he', 'message', 'type', 'mobile', '(compare', 'france', 'determine', '(see', 'have', '(groupe', 'while', 'since', '\"sequence', 'simple', 'language', 'the'}\n"
     ]
    }
   ],
   "source": []
  },
  {
   "cell_type": "code",
   "execution_count": 31,
   "metadata": {},
   "outputs": [
    {
     "name": "stdout",
     "output_type": "stream",
     "text": [
      "List of words ends with n is:\n",
      "{'kevin', 'than', 'in', 'ian', 'an', 'solution', 'finn', 'on', 'can', 'information', 'isdn', 'began'}\n"
     ]
    }
   ],
   "source": []
  },
  {
   "cell_type": "markdown",
   "metadata": {},
   "source": [
    ">  `Question:` Extract first 10 words of text and Capitalize first letter of each word"
   ]
  },
  {
   "cell_type": "code",
   "execution_count": 45,
   "metadata": {},
   "outputs": [
    {
     "data": {
      "text/plain": [
       "'The University of Hawaii began using radio to send digital information as early as 1971,using ALOHAnet. \\nFriedhelm Hillebrand conceptualised SMS in 1984 while working for Deutsche Telekom. Sitting at a typewriter at home, \\nHillebrand typed out random sentences and counted every letter, number, punctuation, and space. \\nAlmost every time, the messages contained fewer than 160 characters, thus giving the basis for the \\nlimit one could type via text messaging. With Bernard Ghillebaert of France Télécom, he developed \\na proposal for the GSM (Groupe Spécial Mobile) meeting in February 1985 in Oslo. \\nThe first technical solution evolved in a GSM subgroup under the leadership of Finn Trosby. \\nIt was further developed under the leadership of Kevin Holley and Ian Harris (see Short Message Service). \\nSMS forms an integral part of SS7 (Signalling System No. 7). Under SS7, it is a \"state\" with a 160 character data, \\ncoded in the ITU-T \"T.56\" text format, that has a \"sequence lead in\" to determine different language codes, \\nand may have special character codes that permits, for example, sending simple graphs as text. \\nThis was part of ISDN (Integrated Services Digital Network) and since GSM is based on this, \\nmade its way to the mobile phone. Messages could be sent and received on ISDN phones, \\nand these can send SMS to any GSM phone. The possibility of doing something is one thing, \\nimplementing it another, but systems existed from 1988 that sent SMS messages to mobile phones (compare ND-NOTIS).'"
      ]
     },
     "execution_count": 45,
     "metadata": {},
     "output_type": "execute_result"
    }
   ],
   "source": [
    "text"
   ]
  },
  {
   "cell_type": "code",
   "execution_count": 48,
   "metadata": {},
   "outputs": [],
   "source": [
    "abc=text.split()[ :10]"
   ]
  },
  {
   "cell_type": "code",
   "execution_count": 52,
   "metadata": {},
   "outputs": [
    {
     "data": {
      "text/plain": [
       "['The',\n",
       " 'University',\n",
       " 'of',\n",
       " 'Hawaii',\n",
       " 'began',\n",
       " 'using',\n",
       " 'radio',\n",
       " 'to',\n",
       " 'send',\n",
       " 'digital']"
      ]
     },
     "execution_count": 52,
     "metadata": {},
     "output_type": "execute_result"
    }
   ],
   "source": [
    "abc"
   ]
  },
  {
   "cell_type": "code",
   "execution_count": 60,
   "metadata": {},
   "outputs": [
    {
     "data": {
      "text/plain": [
       "'The University of Hawaii began using radio to send digital information as early as 1971,using ALOHAnet. \\nFriedhelm Hillebrand conceptualised SMS in 1984 while working for Deutsche Telekom. Sitting at a typewriter at home, \\nHillebrand typed out random sentences and counted every letter, number, punctuation, and space. \\nAlmost every time, the messages contained fewer than 160 characters, thus giving the basis for the \\nlimit one could type via text messaging. With Bernard Ghillebaert of France Télécom, he developed \\na proposal for the GSM (Groupe Spécial Mobile) meeting in February 1985 in Oslo. \\nThe first technical solution evolved in a GSM subgroup under the leadership of Finn Trosby. \\nIt was further developed under the leadership of Kevin Holley and Ian Harris (see Short Message Service). \\nSMS forms an integral part of SS7 (Signalling System No. 7). Under SS7, it is a \"state\" with a 160 character data, \\ncoded in the ITU-T \"T.56\" text format, that has a \"sequence lead in\" to determine different language codes, \\nand may have special character codes that permits, for example, sending simple graphs as text. \\nThis was part of ISDN (Integrated Services Digital Network) and since GSM is based on this, \\nmade its way to the mobile phone. Messages could be sent and received on ISDN phones, \\nand these can send SMS to any GSM phone. The possibility of doing something is one thing, \\nimplementing it another, but systems existed from 1988 that sent SMS messages to mobile phones (compare ND-NOTIS).'"
      ]
     },
     "execution_count": 60,
     "metadata": {},
     "output_type": "execute_result"
    }
   ],
   "source": [
    "text"
   ]
  },
  {
   "cell_type": "code",
   "execution_count": 66,
   "metadata": {},
   "outputs": [],
   "source": [
    "new = text.split()[:10]"
   ]
  },
  {
   "cell_type": "raw",
   "metadata": {},
   "source": []
  },
  {
   "cell_type": "code",
   "execution_count": 68,
   "metadata": {},
   "outputs": [
    {
     "data": {
      "text/plain": [
       "['The',\n",
       " 'University',\n",
       " 'of',\n",
       " 'Hawaii',\n",
       " 'began',\n",
       " 'using',\n",
       " 'radio',\n",
       " 'to',\n",
       " 'send',\n",
       " 'digital']"
      ]
     },
     "execution_count": 68,
     "metadata": {},
     "output_type": "execute_result"
    }
   ],
   "source": [
    "new"
   ]
  },
  {
   "cell_type": "code",
   "execution_count": 70,
   "metadata": {},
   "outputs": [],
   "source": [
    "capitalized_words = [word.capitalize() for word in new]\n",
    "result = \" \".join(capitalized_words)\n"
   ]
  },
  {
   "cell_type": "code",
   "execution_count": 71,
   "metadata": {},
   "outputs": [
    {
     "name": "stdout",
     "output_type": "stream",
     "text": [
      "The University Of Hawaii Began Using Radio To Send Digital\n"
     ]
    }
   ],
   "source": [
    "print(result)"
   ]
  },
  {
   "cell_type": "markdown",
   "metadata": {},
   "source": [
    ">  `Question:` Replace the word \"University\" with name \"Innomatics\" in text"
   ]
  },
  {
   "cell_type": "code",
   "execution_count": 72,
   "metadata": {},
   "outputs": [
    {
     "data": {
      "text/plain": [
       "'The University of Hawaii began using radio to send digital information as early as 1971,using ALOHAnet. \\nFriedhelm Hillebrand conceptualised SMS in 1984 while working for Deutsche Telekom. Sitting at a typewriter at home, \\nHillebrand typed out random sentences and counted every letter, number, punctuation, and space. \\nAlmost every time, the messages contained fewer than 160 characters, thus giving the basis for the \\nlimit one could type via text messaging. With Bernard Ghillebaert of France Télécom, he developed \\na proposal for the GSM (Groupe Spécial Mobile) meeting in February 1985 in Oslo. \\nThe first technical solution evolved in a GSM subgroup under the leadership of Finn Trosby. \\nIt was further developed under the leadership of Kevin Holley and Ian Harris (see Short Message Service). \\nSMS forms an integral part of SS7 (Signalling System No. 7). Under SS7, it is a \"state\" with a 160 character data, \\ncoded in the ITU-T \"T.56\" text format, that has a \"sequence lead in\" to determine different language codes, \\nand may have special character codes that permits, for example, sending simple graphs as text. \\nThis was part of ISDN (Integrated Services Digital Network) and since GSM is based on this, \\nmade its way to the mobile phone. Messages could be sent and received on ISDN phones, \\nand these can send SMS to any GSM phone. The possibility of doing something is one thing, \\nimplementing it another, but systems existed from 1988 that sent SMS messages to mobile phones (compare ND-NOTIS).'"
      ]
     },
     "execution_count": 72,
     "metadata": {},
     "output_type": "execute_result"
    }
   ],
   "source": [
    "text"
   ]
  },
  {
   "cell_type": "code",
   "execution_count": 73,
   "metadata": {},
   "outputs": [
    {
     "name": "stdout",
     "output_type": "stream",
     "text": [
      "The Innomatics of Hawaii began using radio to send digital information as early as 1971,using ALOHAnet. \n",
      "Friedhelm Hillebrand conceptualised SMS in 1984 while working for Deutsche Telekom. Sitting at a typewriter at home, \n",
      "Hillebrand typed out random sentences and counted every letter, number, punctuation, and space. \n",
      "Almost every time, the messages contained fewer than 160 characters, thus giving the basis for the \n",
      "limit one could type via text messaging. With Bernard Ghillebaert of France Télécom, he developed \n",
      "a proposal for the GSM (Groupe Spécial Mobile) meeting in February 1985 in Oslo. \n",
      "The first technical solution evolved in a GSM subgroup under the leadership of Finn Trosby. \n",
      "It was further developed under the leadership of Kevin Holley and Ian Harris (see Short Message Service). \n",
      "SMS forms an integral part of SS7 (Signalling System No. 7). Under SS7, it is a \"state\" with a 160 character data, \n",
      "coded in the ITU-T \"T.56\" text format, that has a \"sequence lead in\" to determine different language codes, \n",
      "and may have special character codes that permits, for example, sending simple graphs as text. \n",
      "This was part of ISDN (Integrated Services Digital Network) and since GSM is based on this, \n",
      "made its way to the mobile phone. Messages could be sent and received on ISDN phones, \n",
      "and these can send SMS to any GSM phone. The possibility of doing something is one thing, \n",
      "implementing it another, but systems existed from 1988 that sent SMS messages to mobile phones (compare ND-NOTIS).\n"
     ]
    }
   ],
   "source": [
    "replaced_words= text.replace(\"University\",\"Innomatics\")\n",
    "print(replaced_words)"
   ]
  },
  {
   "cell_type": "code",
   "execution_count": null,
   "metadata": {},
   "outputs": [],
   "source": []
  },
  {
   "cell_type": "code",
   "execution_count": null,
   "metadata": {},
   "outputs": [],
   "source": []
  },
  {
   "cell_type": "code",
   "execution_count": null,
   "metadata": {},
   "outputs": [],
   "source": []
  },
  {
   "cell_type": "code",
   "execution_count": null,
   "metadata": {},
   "outputs": [],
   "source": []
  },
  {
   "cell_type": "code",
   "execution_count": null,
   "metadata": {},
   "outputs": [],
   "source": []
  },
  {
   "cell_type": "code",
   "execution_count": null,
   "metadata": {},
   "outputs": [],
   "source": []
  },
  {
   "cell_type": "code",
   "execution_count": null,
   "metadata": {},
   "outputs": [],
   "source": []
  },
  {
   "cell_type": "code",
   "execution_count": null,
   "metadata": {},
   "outputs": [],
   "source": []
  },
  {
   "cell_type": "code",
   "execution_count": null,
   "metadata": {},
   "outputs": [],
   "source": []
  },
  {
   "cell_type": "code",
   "execution_count": null,
   "metadata": {},
   "outputs": [],
   "source": []
  },
  {
   "cell_type": "code",
   "execution_count": 35,
   "metadata": {
    "scrolled": false
   },
   "outputs": [
    {
     "name": "stdout",
     "output_type": "stream",
     "text": [
      "The Innomatics of Hawaii began using radio to send digital information as early as 1971,using ALOHAnet. \n",
      "Friedhelm Hillebrand conceptualised SMS in 1984 while working for Deutsche Telekom. Sitting at a typewriter at home, \n",
      "Hillebrand typed out random sentences and counted every letter, number, punctuation, and space. \n",
      "Almost every time, the messages contained fewer than 160 characters, thus giving the basis for the \n",
      "limit one could type via text messaging. With Bernard Ghillebaert of France Télécom, he developed \n",
      "a proposal for the GSM (Groupe Spécial Mobile) meeting in February 1985 in Oslo. \n",
      "The first technical solution evolved in a GSM subgroup under the leadership of Finn Trosby. \n",
      "It was further developed under the leadership of Kevin Holley and Ian Harris (see Short Message Service). \n",
      "SMS forms an integral part of SS7 (Signalling System No. 7). Under SS7, it is a \"state\" with a 160 character data, \n",
      "coded in the ITU-T \"T.56\" text format, that has a \"sequence lead in\" to determine different language codes, \n",
      "and may have special character codes that permits, for example, sending simple graphs as text. \n",
      "This was part of ISDN (Integrated Services Digital Network) and since GSM is based on this, \n",
      "made its way to the mobile phone. Messages could be sent and received on ISDN phones, \n",
      "and these can send SMS to any GSM phone. The possibility of doing something is one thing, \n",
      "implementing it another, but systems existed from 1988 that sent SMS messages to mobile phones (compare ND-NOTIS).\n"
     ]
    }
   ],
   "source": []
  },
  {
   "cell_type": "markdown",
   "metadata": {},
   "source": [
    "> `Question:`  Convert the \"text\" into sentances and store those into one variable called \"sentance\""
   ]
  },
  {
   "cell_type": "code",
   "execution_count": 75,
   "metadata": {},
   "outputs": [],
   "source": [
    "s=text.split(\".\")"
   ]
  },
  {
   "cell_type": "code",
   "execution_count": 76,
   "metadata": {},
   "outputs": [
    {
     "data": {
      "text/plain": [
       "['The University of Hawaii began using radio to send digital information as early as 1971,using ALOHAnet',\n",
       " ' \\nFriedhelm Hillebrand conceptualised SMS in 1984 while working for Deutsche Telekom',\n",
       " ' Sitting at a typewriter at home, \\nHillebrand typed out random sentences and counted every letter, number, punctuation, and space',\n",
       " ' \\nAlmost every time, the messages contained fewer than 160 characters, thus giving the basis for the \\nlimit one could type via text messaging',\n",
       " ' With Bernard Ghillebaert of France Télécom, he developed \\na proposal for the GSM (Groupe Spécial Mobile) meeting in February 1985 in Oslo',\n",
       " ' \\nThe first technical solution evolved in a GSM subgroup under the leadership of Finn Trosby',\n",
       " ' \\nIt was further developed under the leadership of Kevin Holley and Ian Harris (see Short Message Service)',\n",
       " ' \\nSMS forms an integral part of SS7 (Signalling System No',\n",
       " ' 7)',\n",
       " ' Under SS7, it is a \"state\" with a 160 character data, \\ncoded in the ITU-T \"T',\n",
       " '56\" text format, that has a \"sequence lead in\" to determine different language codes, \\nand may have special character codes that permits, for example, sending simple graphs as text',\n",
       " ' \\nThis was part of ISDN (Integrated Services Digital Network) and since GSM is based on this, \\nmade its way to the mobile phone',\n",
       " ' Messages could be sent and received on ISDN phones, \\nand these can send SMS to any GSM phone',\n",
       " ' The possibility of doing something is one thing, \\nimplementing it another, but systems existed from 1988 that sent SMS messages to mobile phones (compare ND-NOTIS)',\n",
       " '']"
      ]
     },
     "execution_count": 76,
     "metadata": {},
     "output_type": "execute_result"
    }
   ],
   "source": [
    "s"
   ]
  },
  {
   "cell_type": "markdown",
   "metadata": {},
   "source": [
    " `Question:`\n",
    " \n",
    "> 1.From the above sentance remove '\\n'\n"
   ]
  },
  {
   "cell_type": "code",
   "execution_count": 78,
   "metadata": {},
   "outputs": [
    {
     "ename": "AttributeError",
     "evalue": "'list' object has no attribute 'replace'",
     "output_type": "error",
     "traceback": [
      "\u001b[1;31m---------------------------------------------------------------------------\u001b[0m",
      "\u001b[1;31mAttributeError\u001b[0m                            Traceback (most recent call last)",
      "\u001b[1;32m~\\AppData\\Local\\Temp\\ipykernel_14468\\48717508.py\u001b[0m in \u001b[0;36m<module>\u001b[1;34m\u001b[0m\n\u001b[1;32m----> 1\u001b[1;33m \u001b[0mkl\u001b[0m\u001b[1;33m=\u001b[0m\u001b[0ms\u001b[0m\u001b[1;33m.\u001b[0m\u001b[0mreplace\u001b[0m\u001b[1;33m(\u001b[0m\u001b[1;34m\"\\n\"\u001b[0m\u001b[1;33m,\u001b[0m \u001b[1;34m\"\"\u001b[0m\u001b[1;33m)\u001b[0m\u001b[1;33m\u001b[0m\u001b[1;33m\u001b[0m\u001b[0m\n\u001b[0m\u001b[0;32m      2\u001b[0m \u001b[0mprint\u001b[0m\u001b[1;33m(\u001b[0m\u001b[0mkl\u001b[0m\u001b[1;33m)\u001b[0m\u001b[1;33m\u001b[0m\u001b[1;33m\u001b[0m\u001b[0m\n",
      "\u001b[1;31mAttributeError\u001b[0m: 'list' object has no attribute 'replace'"
     ]
    }
   ],
   "source": [
    "kl=s.replace(\"\\n\", \"\")\n",
    "print(kl)"
   ]
  },
  {
   "cell_type": "code",
   "execution_count": 79,
   "metadata": {},
   "outputs": [
    {
     "data": {
      "text/plain": [
       "['The University of Hawaii began using radio to send digital information as early as 1971,using ALOHAnet',\n",
       " ' \\nFriedhelm Hillebrand conceptualised SMS in 1984 while working for Deutsche Telekom',\n",
       " ' Sitting at a typewriter at home, \\nHillebrand typed out random sentences and counted every letter, number, punctuation, and space',\n",
       " ' \\nAlmost every time, the messages contained fewer than 160 characters, thus giving the basis for the \\nlimit one could type via text messaging',\n",
       " ' With Bernard Ghillebaert of France Télécom, he developed \\na proposal for the GSM (Groupe Spécial Mobile) meeting in February 1985 in Oslo',\n",
       " ' \\nThe first technical solution evolved in a GSM subgroup under the leadership of Finn Trosby',\n",
       " ' \\nIt was further developed under the leadership of Kevin Holley and Ian Harris (see Short Message Service)',\n",
       " ' \\nSMS forms an integral part of SS7 (Signalling System No',\n",
       " ' 7)',\n",
       " ' Under SS7, it is a \"state\" with a 160 character data, \\ncoded in the ITU-T \"T',\n",
       " '56\" text format, that has a \"sequence lead in\" to determine different language codes, \\nand may have special character codes that permits, for example, sending simple graphs as text',\n",
       " ' \\nThis was part of ISDN (Integrated Services Digital Network) and since GSM is based on this, \\nmade its way to the mobile phone',\n",
       " ' Messages could be sent and received on ISDN phones, \\nand these can send SMS to any GSM phone',\n",
       " ' The possibility of doing something is one thing, \\nimplementing it another, but systems existed from 1988 that sent SMS messages to mobile phones (compare ND-NOTIS)',\n",
       " '']"
      ]
     },
     "execution_count": 79,
     "metadata": {},
     "output_type": "execute_result"
    }
   ],
   "source": [
    "s"
   ]
  },
  {
   "cell_type": "code",
   "execution_count": 80,
   "metadata": {},
   "outputs": [
    {
     "ename": "AttributeError",
     "evalue": "'list' object has no attribute 'replace'",
     "output_type": "error",
     "traceback": [
      "\u001b[1;31m---------------------------------------------------------------------------\u001b[0m",
      "\u001b[1;31mAttributeError\u001b[0m                            Traceback (most recent call last)",
      "\u001b[1;32m~\\AppData\\Local\\Temp\\ipykernel_14468\\1152480092.py\u001b[0m in \u001b[0;36m<module>\u001b[1;34m\u001b[0m\n\u001b[1;32m----> 1\u001b[1;33m \u001b[0mnew_1\u001b[0m\u001b[1;33m=\u001b[0m\u001b[0ms\u001b[0m\u001b[1;33m.\u001b[0m\u001b[0mreplace\u001b[0m\u001b[1;33m(\u001b[0m\u001b[1;34m\"\\n\"\u001b[0m\u001b[1;33m,\u001b[0m \u001b[1;34m\"\"\u001b[0m\u001b[1;33m)\u001b[0m\u001b[1;33m\u001b[0m\u001b[1;33m\u001b[0m\u001b[0m\n\u001b[0m\u001b[0;32m      2\u001b[0m \u001b[0mprint\u001b[0m \u001b[1;33m(\u001b[0m\u001b[0mnew_1\u001b[0m\u001b[1;33m)\u001b[0m\u001b[1;33m\u001b[0m\u001b[1;33m\u001b[0m\u001b[0m\n",
      "\u001b[1;31mAttributeError\u001b[0m: 'list' object has no attribute 'replace'"
     ]
    }
   ],
   "source": []
  },
  {
   "cell_type": "code",
   "execution_count": 83,
   "metadata": {},
   "outputs": [
    {
     "data": {
      "text/plain": [
       "'[\\'The University of Hawaii began using radio to send digital information as early as 1971,using ALOHAnet\\', \\' \\\\nFriedhelm Hillebrand conceptualised SMS in 1984 while working for Deutsche Telekom\\', \\' Sitting at a typewriter at home, \\\\nHillebrand typed out random sentences and counted every letter, number, punctuation, and space\\', \\' \\\\nAlmost every time, the messages contained fewer than 160 characters, thus giving the basis for the \\\\nlimit one could type via text messaging\\', \\' With Bernard Ghillebaert of France Télécom, he developed \\\\na proposal for the GSM (Groupe Spécial Mobile) meeting in February 1985 in Oslo\\', \\' \\\\nThe first technical solution evolved in a GSM subgroup under the leadership of Finn Trosby\\', \\' \\\\nIt was further developed under the leadership of Kevin Holley and Ian Harris (see Short Message Service)\\', \\' \\\\nSMS forms an integral part of SS7 (Signalling System No\\', \\' 7)\\', \\' Under SS7, it is a \"state\" with a 160 character data, \\\\ncoded in the ITU-T \"T\\', \\'56\" text format, that has a \"sequence lead in\" to determine different language codes, \\\\nand may have special character codes that permits, for example, sending simple graphs as text\\', \\' \\\\nThis was part of ISDN (Integrated Services Digital Network) and since GSM is based on this, \\\\nmade its way to the mobile phone\\', \\' Messages could be sent and received on ISDN phones, \\\\nand these can send SMS to any GSM phone\\', \\' The possibility of doing something is one thing, \\\\nimplementing it another, but systems existed from 1988 that sent SMS messages to mobile phones (compare ND-NOTIS)\\', \\'\\']'"
      ]
     },
     "execution_count": 83,
     "metadata": {},
     "output_type": "execute_result"
    }
   ],
   "source": [
    "str(s)"
   ]
  },
  {
   "cell_type": "code",
   "execution_count": null,
   "metadata": {},
   "outputs": [],
   "source": []
  },
  {
   "cell_type": "code",
   "execution_count": null,
   "metadata": {},
   "outputs": [],
   "source": []
  },
  {
   "cell_type": "code",
   "execution_count": null,
   "metadata": {},
   "outputs": [],
   "source": []
  },
  {
   "cell_type": "code",
   "execution_count": 100,
   "metadata": {},
   "outputs": [],
   "source": [
    "a=str(s)"
   ]
  },
  {
   "cell_type": "code",
   "execution_count": 102,
   "metadata": {},
   "outputs": [
    {
     "data": {
      "text/plain": [
       "'[\\'The University of Hawaii began using radio to send digital information as early as 1971,using ALOHAnet\\', \\' \\\\nFriedhelm Hillebrand conceptualised SMS in 1984 while working for Deutsche Telekom\\', \\' Sitting at a typewriter at home, \\\\nHillebrand typed out random sentences and counted every letter, number, punctuation, and space\\', \\' \\\\nAlmost every time, the messages contained fewer than 160 characters, thus giving the basis for the \\\\nlimit one could type via text messaging\\', \\' With Bernard Ghillebaert of France Télécom, he developed \\\\na proposal for the GSM (Groupe Spécial Mobile) meeting in February 1985 in Oslo\\', \\' \\\\nThe first technical solution evolved in a GSM subgroup under the leadership of Finn Trosby\\', \\' \\\\nIt was further developed under the leadership of Kevin Holley and Ian Harris (see Short Message Service)\\', \\' \\\\nSMS forms an integral part of SS7 (Signalling System No\\', \\' 7)\\', \\' Under SS7, it is a \"state\" with a 160 character data, \\\\ncoded in the ITU-T \"T\\', \\'56\" text format, that has a \"sequence lead in\" to determine different language codes, \\\\nand may have special character codes that permits, for example, sending simple graphs as text\\', \\' \\\\nThis was part of ISDN (Integrated Services Digital Network) and since GSM is based on this, \\\\nmade its way to the mobile phone\\', \\' Messages could be sent and received on ISDN phones, \\\\nand these can send SMS to any GSM phone\\', \\' The possibility of doing something is one thing, \\\\nimplementing it another, but systems existed from 1988 that sent SMS messages to mobile phones (compare ND-NOTIS)\\', \\'\\']'"
      ]
     },
     "execution_count": 102,
     "metadata": {},
     "output_type": "execute_result"
    }
   ],
   "source": [
    "a.strip(\"\\n\")"
   ]
  },
  {
   "cell_type": "code",
   "execution_count": 86,
   "metadata": {},
   "outputs": [
    {
     "name": "stdout",
     "output_type": "stream",
     "text": [
      "The University of Hawaii began using radio to send digital information as early as 1971,using ALOHAnet\n",
      " \n",
      "Friedhelm Hillebrand conceptualised SMS in 1984 while working for Deutsche Telekom\n",
      " Sitting at a typewriter at home, \n",
      "Hillebrand typed out random sentences and counted every letter, number, punctuation, and space\n",
      " \n",
      "Almost every time, the messages contained fewer than 160 characters, thus giving the basis for the \n",
      "limit one could type via text messaging\n",
      " With Bernard Ghillebaert of France Télécom, he developed \n",
      "a proposal for the GSM (Groupe Spécial Mobile) meeting in February 1985 in Oslo\n",
      " \n",
      "The first technical solution evolved in a GSM subgroup under the leadership of Finn Trosby\n",
      " \n",
      "It was further developed under the leadership of Kevin Holley and Ian Harris (see Short Message Service)\n",
      " \n",
      "SMS forms an integral part of SS7 (Signalling System No\n",
      " 7)\n",
      " Under SS7, it is a \"state\" with a 160 character data, \n",
      "coded in the ITU-T \"T\n",
      "56\" text format, that has a \"sequence lead in\" to determine different language codes, \n",
      "and may have special character codes that permits, for example, sending simple graphs as text\n",
      " \n",
      "This was part of ISDN (Integrated Services Digital Network) and since GSM is based on this, \n",
      "made its way to the mobile phone\n",
      " Messages could be sent and received on ISDN phones, \n",
      "and these can send SMS to any GSM phone\n",
      " The possibility of doing something is one thing, \n",
      "implementing it another, but systems existed from 1988 that sent SMS messages to mobile phones (compare ND-NOTIS)\n",
      "\n"
     ]
    }
   ],
   "source": [
    "for i in s:\n",
    "    print(i)"
   ]
  },
  {
   "cell_type": "markdown",
   "metadata": {},
   "source": [
    " > 2. From the above sentace print the first word from each sentance\n"
   ]
  },
  {
   "cell_type": "code",
   "execution_count": 89,
   "metadata": {},
   "outputs": [
    {
     "data": {
      "text/plain": [
       "'[\\'The University of Hawaii began using radio to send digital information as early as 1971,using ALOHAnet\\', \\' \\\\nFriedhelm Hillebrand conceptualised SMS in 1984 while working for Deutsche Telekom\\', \\' Sitting at a typewriter at home, \\\\nHillebrand typed out random sentences and counted every letter, number, punctuation, and space\\', \\' \\\\nAlmost every time, the messages contained fewer than 160 characters, thus giving the basis for the \\\\nlimit one could type via text messaging\\', \\' With Bernard Ghillebaert of France Télécom, he developed \\\\na proposal for the GSM (Groupe Spécial Mobile) meeting in February 1985 in Oslo\\', \\' \\\\nThe first technical solution evolved in a GSM subgroup under the leadership of Finn Trosby\\', \\' \\\\nIt was further developed under the leadership of Kevin Holley and Ian Harris (see Short Message Service)\\', \\' \\\\nSMS forms an integral part of SS7 (Signalling System No\\', \\' 7)\\', \\' Under SS7, it is a \"state\" with a 160 character data, \\\\ncoded in the ITU-T \"T\\', \\'56\" text format, that has a \"sequence lead in\" to determine different language codes, \\\\nand may have special character codes that permits, for example, sending simple graphs as text\\', \\' \\\\nThis was part of ISDN (Integrated Services Digital Network) and since GSM is based on this, \\\\nmade its way to the mobile phone\\', \\' Messages could be sent and received on ISDN phones, \\\\nand these can send SMS to any GSM phone\\', \\' The possibility of doing something is one thing, \\\\nimplementing it another, but systems existed from 1988 that sent SMS messages to mobile phones (compare ND-NOTIS)\\', \\'\\']'"
      ]
     },
     "execution_count": 89,
     "metadata": {},
     "output_type": "execute_result"
    }
   ],
   "source": [
    "str(s)"
   ]
  },
  {
   "cell_type": "code",
   "execution_count": 92,
   "metadata": {},
   "outputs": [
    {
     "name": "stdout",
     "output_type": "stream",
     "text": [
      "The\n",
      "Friedhelm\n",
      "Sitting\n",
      "Almost\n",
      "With\n",
      "The\n",
      "It\n",
      "SMS\n",
      "7)\n",
      "Under\n",
      "56\"\n",
      "This\n",
      "Messages\n",
      "The\n"
     ]
    }
   ],
   "source": [
    "for line in s:\n",
    "    words=line.split()\n",
    "    if words:\n",
    "        print(words[0])"
   ]
  },
  {
   "cell_type": "markdown",
   "metadata": {},
   "source": [
    "> 3. From the above sentace print even posioned sentances"
   ]
  },
  {
   "cell_type": "code",
   "execution_count": 93,
   "metadata": {},
   "outputs": [
    {
     "name": "stdout",
     "output_type": "stream",
     "text": [
      "['The', 'of', 'began', 'radio', 'send', 'information', 'early', '1971,using']\n",
      "['Friedhelm', 'conceptualised', 'in', 'while', 'for', 'Telekom']\n",
      "['Sitting', 'a', 'at', 'Hillebrand', 'out', 'sentences', 'counted', 'letter,', 'punctuation,', 'space']\n",
      "['Almost', 'time,', 'messages', 'fewer', '160', 'thus', 'the', 'for', 'limit', 'could', 'via', 'messaging']\n",
      "['With', 'Ghillebaert', 'France', 'he', 'a', 'for', 'GSM', 'Spécial', 'meeting', 'February', 'in']\n",
      "['The', 'technical', 'evolved', 'a', 'subgroup', 'the', 'of', 'Trosby']\n",
      "['It', 'further', 'under', 'leadership', 'Kevin', 'and', 'Harris', 'Short', 'Service)']\n",
      "['SMS', 'an', 'part', 'SS7', 'System']\n",
      "['7)']\n",
      "['Under', 'it', 'a', 'with', '160', 'data,', 'in', 'ITU-T']\n",
      "['56\"', 'format,', 'has', '\"sequence', 'in\"', 'determine', 'language', 'and', 'have', 'character', 'that', 'for', 'sending', 'graphs', 'text']\n",
      "['This', 'part', 'ISDN', 'Services', 'Network)', 'since', 'is', 'on', 'made', 'way', 'the', 'phone']\n",
      "['Messages', 'be', 'and', 'on', 'phones,', 'these', 'send', 'to', 'GSM']\n",
      "['The', 'of', 'something', 'one', 'implementing', 'another,', 'systems', 'from', 'that', 'SMS', 'to', 'phones', 'ND-NOTIS)']\n"
     ]
    }
   ],
   "source": [
    "for line in s:\n",
    "    words=line.split()\n",
    "    if words:\n",
    "        print(words[0: :2])"
   ]
  },
  {
   "cell_type": "code",
   "execution_count": 95,
   "metadata": {},
   "outputs": [],
   "source": [
    "result1 = \" \".join(words)\n"
   ]
  },
  {
   "cell_type": "code",
   "execution_count": 97,
   "metadata": {},
   "outputs": [
    {
     "name": "stdout",
     "output_type": "stream",
     "text": [
      "\n"
     ]
    }
   ],
   "source": [
    "print(result1)"
   ]
  },
  {
   "cell_type": "markdown",
   "metadata": {},
   "source": [
    ">   `Question:` If the following string is given as input to the program:\n",
    "\n",
    "- H1e2l3l4o5w6o7r8l9d\n",
    "\n",
    ">   `Output:`  Then, the output of the program should be:\n",
    "\n",
    "- Helloworld"
   ]
  },
  {
   "cell_type": "code",
   "execution_count": 5,
   "metadata": {},
   "outputs": [
    {
     "name": "stdout",
     "output_type": "stream",
     "text": [
      "Helloworld\n"
     ]
    }
   ],
   "source": [
    "# CODE HERE"
   ]
  },
  {
   "cell_type": "markdown",
   "metadata": {},
   "source": [
    "# [Innomatics Research Labs](https:/innomatics.in/)\n",
    "[www.innomatics.in](https:/innomatics.in/)"
   ]
  },
  {
   "cell_type": "code",
   "execution_count": null,
   "metadata": {},
   "outputs": [],
   "source": []
  }
 ],
 "metadata": {
  "kernelspec": {
   "display_name": "Python 3 (ipykernel)",
   "language": "python",
   "name": "python3"
  },
  "language_info": {
   "codemirror_mode": {
    "name": "ipython",
    "version": 3
   },
   "file_extension": ".py",
   "mimetype": "text/x-python",
   "name": "python",
   "nbconvert_exporter": "python",
   "pygments_lexer": "ipython3",
   "version": "3.9.13"
  }
 },
 "nbformat": 4,
 "nbformat_minor": 2
}
