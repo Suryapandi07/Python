{
 "cells": [
  {
   "cell_type": "code",
   "execution_count": 1,
   "id": "3baa487d",
   "metadata": {},
   "outputs": [],
   "source": [
    "#Setter and Getter"
   ]
  },
  {
   "cell_type": "code",
   "execution_count": null,
   "id": "56530e2f",
   "metadata": {},
   "outputs": [],
   "source": []
  },
  {
   "cell_type": "code",
   "execution_count": 25,
   "id": "d2fdefb4",
   "metadata": {},
   "outputs": [],
   "source": [
    "class car:\n",
    "    def __init__ (self):\n",
    "        self.model = \"Maruthi\"\n",
    "        self.price = 700000\n",
    "     \n",
    "    def get_model(self):\n",
    "        print(\"The Model Of Your Car Was\", self.model)\n",
    "    def get_price(self):\n",
    "        print(\"The Price Of Your Car Was\", self.price)\n",
    "    def set_price(self):\n",
    "        get_price =int(input(\"Enter The New Price: \"))\n",
    "        print(\"New Price Of The Car Was\", get_price)"
   ]
  },
  {
   "cell_type": "code",
   "execution_count": 26,
   "id": "293702aa",
   "metadata": {},
   "outputs": [],
   "source": [
    "d = car()"
   ]
  },
  {
   "cell_type": "code",
   "execution_count": 27,
   "id": "406751db",
   "metadata": {},
   "outputs": [
    {
     "name": "stdout",
     "output_type": "stream",
     "text": [
      "The Model Of Your Car Was Maruthi\n"
     ]
    }
   ],
   "source": [
    "d.get_model()"
   ]
  },
  {
   "cell_type": "code",
   "execution_count": 28,
   "id": "7d484f29",
   "metadata": {},
   "outputs": [
    {
     "name": "stdout",
     "output_type": "stream",
     "text": [
      "The Price Of Your Car Was 700000\n"
     ]
    }
   ],
   "source": [
    "d.get_price()"
   ]
  },
  {
   "cell_type": "code",
   "execution_count": 29,
   "id": "24151918",
   "metadata": {},
   "outputs": [
    {
     "name": "stdout",
     "output_type": "stream",
     "text": [
      "Enter The New Price: 111000\n",
      "New Price Of The Car Was 111000\n"
     ]
    }
   ],
   "source": [
    "d.set_price()"
   ]
  },
  {
   "cell_type": "code",
   "execution_count": 30,
   "id": "52322f37",
   "metadata": {},
   "outputs": [
    {
     "name": "stdout",
     "output_type": "stream",
     "text": [
      "The Price Of Your Car Was 700000\n"
     ]
    }
   ],
   "source": [
    "d.get_price()"
   ]
  },
  {
   "cell_type": "code",
   "execution_count": null,
   "id": "ee9d2156",
   "metadata": {},
   "outputs": [],
   "source": []
  }
 ],
 "metadata": {
  "kernelspec": {
   "display_name": "Python 3 (ipykernel)",
   "language": "python",
   "name": "python3"
  },
  "language_info": {
   "codemirror_mode": {
    "name": "ipython",
    "version": 3
   },
   "file_extension": ".py",
   "mimetype": "text/x-python",
   "name": "python",
   "nbconvert_exporter": "python",
   "pygments_lexer": "ipython3",
   "version": "3.9.13"
  }
 },
 "nbformat": 4,
 "nbformat_minor": 5
}
