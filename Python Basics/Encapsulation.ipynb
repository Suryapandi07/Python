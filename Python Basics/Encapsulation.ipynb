{
 "cells": [
  {
   "cell_type": "code",
   "execution_count": null,
   "id": "91fd234d",
   "metadata": {},
   "outputs": [],
   "source": []
  },
  {
   "cell_type": "code",
   "execution_count": 18,
   "id": "64e2bdac",
   "metadata": {},
   "outputs": [],
   "source": [
    "class specs:\n",
    "    def __init__ (self, color, price, cc):\n",
    "        self.color = color\n",
    "        self.price = price\n",
    "        self.cc = cc\n",
    "    def get_color(self):\n",
    "        print(\"The color of the bike was\", self.color)\n",
    "    def get_price(self):\n",
    "        print(\"The priceof the bike was\", self.price)\n",
    "    def get_cc(self):\n",
    "        print(\"The CC of the bike was\", self.cc)\n",
    "        \n",
    "class bike(specs):\n",
    "    def __init__ (self, milage):\n",
    "        self.color = input(\"Enter the color: \")\n",
    "        self.price = int(input(\"Enter the price: \"))\n",
    "        self.cc = int(input(\"Enter the cc: \"))\n",
    "        \n",
    "    def milage(self, milage):\n",
    "        int(input(\"Enter your milage: \"))\n",
    "        \n",
    "        print(\"The Color of the bike was\", self.color)\n",
    "        print(\"The price of the bke is\", self.price)\n",
    "        print(\"The cc of the bike was\", self.cc)"
   ]
  },
  {
   "cell_type": "code",
   "execution_count": 19,
   "id": "0241768b",
   "metadata": {},
   "outputs": [],
   "source": [
    "bajaj = specs(\"Green\", 600000, 220)"
   ]
  },
  {
   "cell_type": "code",
   "execution_count": 20,
   "id": "12aacc43",
   "metadata": {},
   "outputs": [
    {
     "name": "stdout",
     "output_type": "stream",
     "text": [
      "The priceof the bike was 600000\n"
     ]
    }
   ],
   "source": [
    "bajaj.get_price()"
   ]
  },
  {
   "cell_type": "code",
   "execution_count": 24,
   "id": "e82779e4",
   "metadata": {},
   "outputs": [
    {
     "name": "stdout",
     "output_type": "stream",
     "text": [
      "Enter the color: Green\n",
      "Enter the price: 300000\n",
      "Enter the cc: 300\n"
     ]
    }
   ],
   "source": [
    "pulsar = bike(90)"
   ]
  },
  {
   "cell_type": "code",
   "execution_count": 26,
   "id": "98695604",
   "metadata": {},
   "outputs": [
    {
     "ename": "TypeError",
     "evalue": "milage() missing 1 required positional argument: 'milage'",
     "output_type": "error",
     "traceback": [
      "\u001b[1;31m---------------------------------------------------------------------------\u001b[0m",
      "\u001b[1;31mTypeError\u001b[0m                                 Traceback (most recent call last)",
      "\u001b[1;32m~\\AppData\\Local\\Temp\\ipykernel_1196\\2847950602.py\u001b[0m in \u001b[0;36m<module>\u001b[1;34m\u001b[0m\n\u001b[1;32m----> 1\u001b[1;33m \u001b[0mpulsar\u001b[0m\u001b[1;33m.\u001b[0m\u001b[0mmilage\u001b[0m\u001b[1;33m(\u001b[0m\u001b[1;33m)\u001b[0m\u001b[1;33m\u001b[0m\u001b[1;33m\u001b[0m\u001b[0m\n\u001b[0m",
      "\u001b[1;31mTypeError\u001b[0m: milage() missing 1 required positional argument: 'milage'"
     ]
    }
   ],
   "source": [
    "pulsar.milage()"
   ]
  },
  {
   "cell_type": "code",
   "execution_count": null,
   "id": "19ee2fc2",
   "metadata": {},
   "outputs": [],
   "source": []
  },
  {
   "cell_type": "code",
   "execution_count": 30,
   "id": "caa6a546",
   "metadata": {},
   "outputs": [],
   "source": [
    " #Encapsulation"
   ]
  },
  {
   "cell_type": "code",
   "execution_count": null,
   "id": "17f5fa5e",
   "metadata": {},
   "outputs": [],
   "source": []
  },
  {
   "cell_type": "code",
   "execution_count": 7,
   "id": "7812815f",
   "metadata": {},
   "outputs": [],
   "source": [
    "class car:\n",
    "    def __init__(self):\n",
    "        self.model = \"Maruthi\"\n",
    "        self.__price = 600000\n",
    "    def get_model(self):\n",
    "        print(\"The Model Of Your Car Is\", self.model)\n",
    "    def get_price(self):\n",
    "        print(\"The Price Of The Car Is\", self.__price)\n"
   ]
  },
  {
   "cell_type": "code",
   "execution_count": 8,
   "id": "20a1dd64",
   "metadata": {},
   "outputs": [],
   "source": [
    "c = car()"
   ]
  },
  {
   "cell_type": "code",
   "execution_count": 9,
   "id": "53dc79da",
   "metadata": {},
   "outputs": [
    {
     "name": "stdout",
     "output_type": "stream",
     "text": [
      "The Model Of Your Car Is Maruthi\n"
     ]
    }
   ],
   "source": [
    "c.get_model()"
   ]
  },
  {
   "cell_type": "code",
   "execution_count": 10,
   "id": "ee569dec",
   "metadata": {},
   "outputs": [
    {
     "data": {
      "text/plain": [
       "'Maruthi'"
      ]
     },
     "execution_count": 10,
     "metadata": {},
     "output_type": "execute_result"
    }
   ],
   "source": [
    "c.model"
   ]
  },
  {
   "cell_type": "code",
   "execution_count": 11,
   "id": "a2bb0c0f",
   "metadata": {},
   "outputs": [
    {
     "name": "stdout",
     "output_type": "stream",
     "text": [
      "The Price Of The Car Is 600000\n"
     ]
    }
   ],
   "source": [
    "c.get_price()"
   ]
  },
  {
   "cell_type": "code",
   "execution_count": 14,
   "id": "a73963a3",
   "metadata": {},
   "outputs": [
    {
     "ename": "AttributeError",
     "evalue": "'car' object has no attribute '__price'",
     "output_type": "error",
     "traceback": [
      "\u001b[1;31m---------------------------------------------------------------------------\u001b[0m",
      "\u001b[1;31mAttributeError\u001b[0m                            Traceback (most recent call last)",
      "\u001b[1;32m~\\AppData\\Local\\Temp\\ipykernel_4744\\237446047.py\u001b[0m in \u001b[0;36m<module>\u001b[1;34m\u001b[0m\n\u001b[1;32m----> 1\u001b[1;33m \u001b[0mc\u001b[0m\u001b[1;33m.\u001b[0m\u001b[0m__price\u001b[0m\u001b[1;33m\u001b[0m\u001b[1;33m\u001b[0m\u001b[0m\n\u001b[0m",
      "\u001b[1;31mAttributeError\u001b[0m: 'car' object has no attribute '__price'"
     ]
    }
   ],
   "source": [
    "c.__price"
   ]
  },
  {
   "cell_type": "code",
   "execution_count": null,
   "id": "798747ae",
   "metadata": {},
   "outputs": [],
   "source": []
  }
 ],
 "metadata": {
  "kernelspec": {
   "display_name": "Python 3 (ipykernel)",
   "language": "python",
   "name": "python3"
  },
  "language_info": {
   "codemirror_mode": {
    "name": "ipython",
    "version": 3
   },
   "file_extension": ".py",
   "mimetype": "text/x-python",
   "name": "python",
   "nbconvert_exporter": "python",
   "pygments_lexer": "ipython3",
   "version": "3.9.13"
  }
 },
 "nbformat": 4,
 "nbformat_minor": 5
}
