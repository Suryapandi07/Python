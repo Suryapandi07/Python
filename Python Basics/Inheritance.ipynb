{
 "cells": [
  {
   "cell_type": "code",
   "execution_count": 7,
   "id": "36b71406",
   "metadata": {},
   "outputs": [],
   "source": [
    "class Human:\n",
    "    def __init__(self, name, age, gender):\n",
    "        self.name = name\n",
    "        self.age = age\n",
    "        self.gender = gender\n",
    "    def Display(self) :\n",
    "        print(f\"your name is{self.name} and the age is{self.age} and you are {self.gender}\")\n",
    "    def Driving (self): \n",
    "        if self.age > 18:\n",
    "            print(f\"your age is {self.age} and you are eligible for driving\")\n",
    "        else:\n",
    "            print(\"your age is small and you are not eligible for driving\")"
   ]
  },
  {
   "cell_type": "code",
   "execution_count": 10,
   "id": "80a82af3",
   "metadata": {},
   "outputs": [],
   "source": [
    "vipin = Human(\"vipin\", 19, \"male\")\n",
    "sree = Human(\"sree\", 14, \"male\")"
   ]
  },
  {
   "cell_type": "code",
   "execution_count": 11,
   "id": "83930eab",
   "metadata": {},
   "outputs": [
    {
     "name": "stdout",
     "output_type": "stream",
     "text": [
      "your age is 19 and you are eligible for driving\n"
     ]
    }
   ],
   "source": [
    "vipin.Driving()"
   ]
  },
  {
   "cell_type": "code",
   "execution_count": null,
   "id": "191ef767",
   "metadata": {},
   "outputs": [],
   "source": []
  },
  {
   "cell_type": "code",
   "execution_count": 17,
   "id": "3816522e",
   "metadata": {},
   "outputs": [],
   "source": [
    "class A:\n",
    "    def __init__(self):\n",
    "        self.a = 30\n",
    "        self.b = 70\n",
    "        print(\"This is base\")\n",
    "    def m1(self):\n",
    "        print(\"This is method 1\")\n",
    "    def m2(self):\n",
    "        print(\"This is method 2\")\n",
    "        \n",
    "class B: \n",
    "    def __init__(self):\n",
    "        print(\"This is Derived class\")\n",
    "    def m3(self):\n",
    "        print(\"This is method 3\")\n",
    "    def m4(self):\n",
    "        print(\"This is method 4\")\n",
    "        \n",
    "class C: \n",
    "    def __init__(self):\n",
    "        print(\"This is Derived class\")\n",
    "    def m5(self):\n",
    "        print(\"This is method 5\")\n",
    "    def m6(self):\n",
    "        print(\"This is method 6\")\n",
    "        \n",
    "class D: \n",
    "    def __init__(self):\n",
    "        print(\"This is Derived class\")\n",
    "    def m7(self):\n",
    "        print(\"This is method 7\")\n",
    "    def m8(self):\n",
    "        print(\"This is method 8\")        \n",
    "        "
   ]
  },
  {
   "cell_type": "code",
   "execution_count": 18,
   "id": "b05c68e6",
   "metadata": {},
   "outputs": [
    {
     "name": "stdout",
     "output_type": "stream",
     "text": [
      "This is base\n",
      "This is Derived class\n",
      "This is Derived class\n",
      "This is Derived class\n"
     ]
    }
   ],
   "source": [
    "a = A()\n",
    "b = B()\n",
    "c = C()\n",
    "d = D()"
   ]
  },
  {
   "cell_type": "code",
   "execution_count": 20,
   "id": "796fe220",
   "metadata": {},
   "outputs": [
    {
     "name": "stdout",
     "output_type": "stream",
     "text": [
      "This is base\n"
     ]
    },
    {
     "data": {
      "text/plain": [
       "<__main__.A at 0x21e71d140a0>"
      ]
     },
     "execution_count": 20,
     "metadata": {},
     "output_type": "execute_result"
    }
   ],
   "source": [
    "A()"
   ]
  },
  {
   "cell_type": "code",
   "execution_count": 23,
   "id": "b42f1201",
   "metadata": {},
   "outputs": [
    {
     "name": "stdout",
     "output_type": "stream",
     "text": [
      "This is method 4\n"
     ]
    }
   ],
   "source": [
    "b.m4()"
   ]
  },
  {
   "cell_type": "code",
   "execution_count": 25,
   "id": "970e8a09",
   "metadata": {},
   "outputs": [
    {
     "name": "stdout",
     "output_type": "stream",
     "text": [
      "This is method 8\n"
     ]
    }
   ],
   "source": [
    "d.m8()"
   ]
  },
  {
   "cell_type": "code",
   "execution_count": 29,
   "id": "61826d85",
   "metadata": {},
   "outputs": [],
   "source": [
    "class A:\n",
    "    def __init__(self):\n",
    "        self.a = 30\n",
    "        self.b = 70\n",
    "        print(\"This is base\")\n",
    "    def m1(self):\n",
    "        print(\"This is method 1\")\n",
    "    def m2(self):\n",
    "        print(\"This is method 2\")\n",
    "        \n",
    "class B(A): \n",
    "    def __init__(self):\n",
    "        print(\"This is Derived class\")\n",
    "    def m3(self):\n",
    "        print(\"This is method 3\")\n",
    "    def m4(self):\n",
    "        print(\"This is method 4\")\n",
    "        \n",
    "class C(B): \n",
    "    def __init__(self):\n",
    "        print(\"This is Derived class\")\n",
    "    def m5(self):\n",
    "        print(\"This is method 5\")\n",
    "    def m6(self):\n",
    "        print(\"This is method 6\")\n",
    "        \n",
    "class D(C): \n",
    "    def __init__(self):\n",
    "        print(\"This is Derived class\")\n",
    "    def m7(self):\n",
    "        print(\"This is method 7\")\n",
    "    def m8(self):\n",
    "        print(\"This is method 8\")        \n",
    "        "
   ]
  },
  {
   "cell_type": "code",
   "execution_count": 30,
   "id": "49f0908a",
   "metadata": {},
   "outputs": [
    {
     "name": "stdout",
     "output_type": "stream",
     "text": [
      "This is base\n",
      "This is Derived class\n",
      "This is Derived class\n",
      "This is Derived class\n"
     ]
    }
   ],
   "source": [
    "a = A()\n",
    "b = B()\n",
    "c = C()\n",
    "d = D()"
   ]
  },
  {
   "cell_type": "code",
   "execution_count": null,
   "id": "0e95f4dc",
   "metadata": {},
   "outputs": [],
   "source": []
  }
 ],
 "metadata": {
  "kernelspec": {
   "display_name": "Python 3 (ipykernel)",
   "language": "python",
   "name": "python3"
  },
  "language_info": {
   "codemirror_mode": {
    "name": "ipython",
    "version": 3
   },
   "file_extension": ".py",
   "mimetype": "text/x-python",
   "name": "python",
   "nbconvert_exporter": "python",
   "pygments_lexer": "ipython3",
   "version": "3.9.13"
  }
 },
 "nbformat": 4,
 "nbformat_minor": 5
}
