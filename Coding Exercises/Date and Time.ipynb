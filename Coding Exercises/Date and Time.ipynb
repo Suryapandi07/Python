{
 "cells": [
  {
   "cell_type": "code",
   "execution_count": 1,
   "id": "bc3341e0",
   "metadata": {},
   "outputs": [],
   "source": [
    "import pandas as pd"
   ]
  },
  {
   "cell_type": "code",
   "execution_count": 3,
   "id": "84696b83",
   "metadata": {},
   "outputs": [
    {
     "data": {
      "text/plain": [
       "DatetimeIndex(['2001-10-06', '2001-10-07', '2001-10-08', '2001-10-09',\n",
       "               '2001-10-10'],\n",
       "              dtype='datetime64[ns]', freq='D')"
      ]
     },
     "execution_count": 3,
     "metadata": {},
     "output_type": "execute_result"
    }
   ],
   "source": [
    "pd.date_range(\"10/06/2001\",periods=5)"
   ]
  },
  {
   "cell_type": "code",
   "execution_count": 4,
   "id": "78c49286",
   "metadata": {},
   "outputs": [
    {
     "data": {
      "text/plain": [
       "DatetimeIndex(['2000-11-02', '2000-11-03', '2000-11-04', '2000-11-05',\n",
       "               '2000-11-06', '2000-11-07', '2000-11-08', '2000-11-09',\n",
       "               '2000-11-10', '2000-11-11'],\n",
       "              dtype='datetime64[ns]', freq='D')"
      ]
     },
     "execution_count": 4,
     "metadata": {},
     "output_type": "execute_result"
    }
   ],
   "source": [
    "pd.date_range(\"11-2-2000\",periods=10)"
   ]
  },
  {
   "cell_type": "code",
   "execution_count": 6,
   "id": "5cf608ee",
   "metadata": {},
   "outputs": [
    {
     "data": {
      "text/plain": [
       "DatetimeIndex(['2001-10-31', '2001-11-30', '2001-12-31', '2002-01-31',\n",
       "               '2002-02-28'],\n",
       "              dtype='datetime64[ns]', freq='M')"
      ]
     },
     "execution_count": 6,
     "metadata": {},
     "output_type": "execute_result"
    }
   ],
   "source": [
    "pd.date_range(\"10-5-2001\",periods=5,freq=\"M\")"
   ]
  },
  {
   "cell_type": "code",
   "execution_count": 8,
   "id": "9145b72e",
   "metadata": {},
   "outputs": [
    {
     "data": {
      "text/plain": [
       "DatetimeIndex(['2001-10-05', '2001-10-06', '2001-10-07', '2001-10-08',\n",
       "               '2001-10-09'],\n",
       "              dtype='datetime64[ns]', freq='D')"
      ]
     },
     "execution_count": 8,
     "metadata": {},
     "output_type": "execute_result"
    }
   ],
   "source": [
    "pd.date_range(\"10-5-2001\",periods=5,freq=\"D\")"
   ]
  },
  {
   "cell_type": "code",
   "execution_count": 9,
   "id": "e6d61128",
   "metadata": {},
   "outputs": [
    {
     "data": {
      "text/plain": [
       "DatetimeIndex(['2001-12-31', '2002-12-31', '2003-12-31', '2004-12-31',\n",
       "               '2005-12-31'],\n",
       "              dtype='datetime64[ns]', freq='A-DEC')"
      ]
     },
     "execution_count": 9,
     "metadata": {},
     "output_type": "execute_result"
    }
   ],
   "source": [
    "pd.date_range(\"10-5-2001\",periods=5,freq=\"Y\")"
   ]
  },
  {
   "cell_type": "code",
   "execution_count": 10,
   "id": "e93ada9e",
   "metadata": {},
   "outputs": [
    {
     "data": {
      "text/plain": [
       "DatetimeIndex(['2001-10-31', '2001-11-30', '2001-12-31', '2002-01-31',\n",
       "               '2002-02-28'],\n",
       "              dtype='datetime64[ns]', freq='M')"
      ]
     },
     "execution_count": 10,
     "metadata": {},
     "output_type": "execute_result"
    }
   ],
   "source": [
    "pd.date_range(\"10-5-2001\",periods=5,freq=\"m\")"
   ]
  },
  {
   "cell_type": "code",
   "execution_count": 11,
   "id": "a49be696",
   "metadata": {},
   "outputs": [
    {
     "data": {
      "text/plain": [
       "DatetimeIndex(['2001-10-05 00:00:00', '2001-10-05 01:00:00',\n",
       "               '2001-10-05 02:00:00', '2001-10-05 03:00:00',\n",
       "               '2001-10-05 04:00:00'],\n",
       "              dtype='datetime64[ns]', freq='H')"
      ]
     },
     "execution_count": 11,
     "metadata": {},
     "output_type": "execute_result"
    }
   ],
   "source": [
    "pd.date_range(\"10-5-2001\",periods=5,freq=\"h\")"
   ]
  },
  {
   "cell_type": "code",
   "execution_count": 13,
   "id": "889f4c5f",
   "metadata": {},
   "outputs": [
    {
     "data": {
      "text/plain": [
       "DatetimeIndex(['2001-10-05 00:00:00', '2001-10-05 02:00:00',\n",
       "               '2001-10-05 04:00:00', '2001-10-05 06:00:00',\n",
       "               '2001-10-05 08:00:00'],\n",
       "              dtype='datetime64[ns]', freq='2H')"
      ]
     },
     "execution_count": 13,
     "metadata": {},
     "output_type": "execute_result"
    }
   ],
   "source": [
    "pd.date_range(\"10-5-2001\",periods=5,freq=\"2H\")"
   ]
  },
  {
   "cell_type": "code",
   "execution_count": 15,
   "id": "4fb8bf6c",
   "metadata": {},
   "outputs": [
    {
     "data": {
      "text/plain": [
       "DatetimeIndex(['2001-10-05 00:00:00', '2001-10-05 00:15:00',\n",
       "               '2001-10-05 00:30:00', '2001-10-05 00:45:00',\n",
       "               '2001-10-05 01:00:00'],\n",
       "              dtype='datetime64[ns]', freq='15T')"
      ]
     },
     "execution_count": 15,
     "metadata": {},
     "output_type": "execute_result"
    }
   ],
   "source": [
    "pd.date_range(\"10-5-2001\",periods=5,freq=\"15Min\")"
   ]
  },
  {
   "cell_type": "code",
   "execution_count": 33,
   "id": "7506c461",
   "metadata": {},
   "outputs": [],
   "source": [
    "df = pd.DataFrame({\"Name\":[\"Sreehari\",\"Kishore\",\"Anwesha\",\"Dilip\"],\n",
    "             \"DoB\":[\"23-4-1997\",\"24-7-1996\",\"5-10-1996\",\"12-12-1998\"],\n",
    "                   \"Year\":[\"1997\",\"1996\",\"1996\",\"1998\"],\n",
    "                   \"Month\":[\"4\",\"7\",\"10\",\"12\"],\n",
    "                   \"Day\":[\"25\",\"24\",\"5\",\"12\"]\n",
    "             })"
   ]
  },
  {
   "cell_type": "code",
   "execution_count": 34,
   "id": "f0674bd0",
   "metadata": {},
   "outputs": [
    {
     "data": {
      "text/html": [
       "<div>\n",
       "<style scoped>\n",
       "    .dataframe tbody tr th:only-of-type {\n",
       "        vertical-align: middle;\n",
       "    }\n",
       "\n",
       "    .dataframe tbody tr th {\n",
       "        vertical-align: top;\n",
       "    }\n",
       "\n",
       "    .dataframe thead th {\n",
       "        text-align: right;\n",
       "    }\n",
       "</style>\n",
       "<table border=\"1\" class=\"dataframe\">\n",
       "  <thead>\n",
       "    <tr style=\"text-align: right;\">\n",
       "      <th></th>\n",
       "      <th>Name</th>\n",
       "      <th>DoB</th>\n",
       "      <th>Year</th>\n",
       "      <th>Month</th>\n",
       "      <th>Day</th>\n",
       "    </tr>\n",
       "  </thead>\n",
       "  <tbody>\n",
       "    <tr>\n",
       "      <th>0</th>\n",
       "      <td>Sreehari</td>\n",
       "      <td>23-4-1997</td>\n",
       "      <td>1997</td>\n",
       "      <td>4</td>\n",
       "      <td>25</td>\n",
       "    </tr>\n",
       "    <tr>\n",
       "      <th>1</th>\n",
       "      <td>Kishore</td>\n",
       "      <td>24-7-1996</td>\n",
       "      <td>1996</td>\n",
       "      <td>7</td>\n",
       "      <td>24</td>\n",
       "    </tr>\n",
       "    <tr>\n",
       "      <th>2</th>\n",
       "      <td>Anwesha</td>\n",
       "      <td>5-10-1996</td>\n",
       "      <td>1996</td>\n",
       "      <td>10</td>\n",
       "      <td>5</td>\n",
       "    </tr>\n",
       "    <tr>\n",
       "      <th>3</th>\n",
       "      <td>Dilip</td>\n",
       "      <td>12-12-1998</td>\n",
       "      <td>1998</td>\n",
       "      <td>12</td>\n",
       "      <td>12</td>\n",
       "    </tr>\n",
       "  </tbody>\n",
       "</table>\n",
       "</div>"
      ],
      "text/plain": [
       "       Name         DoB  Year Month Day\n",
       "0  Sreehari   23-4-1997  1997     4  25\n",
       "1   Kishore   24-7-1996  1996     7  24\n",
       "2   Anwesha   5-10-1996  1996    10   5\n",
       "3     Dilip  12-12-1998  1998    12  12"
      ]
     },
     "execution_count": 34,
     "metadata": {},
     "output_type": "execute_result"
    }
   ],
   "source": [
    "df"
   ]
  },
  {
   "cell_type": "code",
   "execution_count": 19,
   "id": "6d3c25f2",
   "metadata": {},
   "outputs": [
    {
     "data": {
      "text/plain": [
       "0   1997-04-23\n",
       "1   1996-07-24\n",
       "2   1996-05-10\n",
       "3   1998-12-12\n",
       "Name: DoB, dtype: datetime64[ns]"
      ]
     },
     "execution_count": 19,
     "metadata": {},
     "output_type": "execute_result"
    }
   ],
   "source": [
    "pd.to_datetime(df['DoB'])"
   ]
  },
  {
   "cell_type": "code",
   "execution_count": 20,
   "id": "786082b4",
   "metadata": {},
   "outputs": [
    {
     "data": {
      "text/plain": [
       "0   1997-04-23\n",
       "1   1996-07-24\n",
       "2   1996-05-10\n",
       "3   1998-12-12\n",
       "Name: DoB, dtype: datetime64[ns]"
      ]
     },
     "execution_count": 20,
     "metadata": {},
     "output_type": "execute_result"
    }
   ],
   "source": [
    "df[\"DoB\"].astype(\"datetime64[ns]\")"
   ]
  },
  {
   "cell_type": "code",
   "execution_count": 21,
   "id": "88694a96",
   "metadata": {},
   "outputs": [],
   "source": [
    "df[\"DoB\"] = df[\"DoB\"].astype(\"datetime64[ns]\")"
   ]
  },
  {
   "cell_type": "code",
   "execution_count": 22,
   "id": "0e8603ba",
   "metadata": {},
   "outputs": [
    {
     "data": {
      "text/plain": [
       "0   1997-04-23\n",
       "1   1996-07-24\n",
       "2   1996-05-10\n",
       "3   1998-12-12\n",
       "Name: DoB, dtype: datetime64[ns]"
      ]
     },
     "execution_count": 22,
     "metadata": {},
     "output_type": "execute_result"
    }
   ],
   "source": [
    "df[\"DoB\"]"
   ]
  },
  {
   "cell_type": "code",
   "execution_count": 26,
   "id": "67183e3a",
   "metadata": {},
   "outputs": [
    {
     "data": {
      "text/plain": [
       "Timestamp('2001-06-10 00:00:00')"
      ]
     },
     "execution_count": 26,
     "metadata": {},
     "output_type": "execute_result"
    }
   ],
   "source": [
    "pd.to_datetime(\"1062001\",format=\"%d%m%Y\")"
   ]
  },
  {
   "cell_type": "code",
   "execution_count": 29,
   "id": "370709e4",
   "metadata": {},
   "outputs": [
    {
     "data": {
      "text/plain": [
       "Timestamp('2023-05-08 23:45:19.725092')"
      ]
     },
     "execution_count": 29,
     "metadata": {},
     "output_type": "execute_result"
    }
   ],
   "source": [
    "today = pd.to_datetime(\"today\")\n",
    "today"
   ]
  },
  {
   "cell_type": "code",
   "execution_count": 41,
   "id": "26dd69ca",
   "metadata": {},
   "outputs": [],
   "source": [
    "df[\"DoB\"]=df[\"DoB\"].astype(\"datetime64\")"
   ]
  },
  {
   "cell_type": "code",
   "execution_count": 42,
   "id": "ead342d4",
   "metadata": {},
   "outputs": [],
   "source": [
    "df[\"ear\"]= df[\"DoB\"].dt.year"
   ]
  },
  {
   "cell_type": "code",
   "execution_count": null,
   "id": "e5a778da",
   "metadata": {},
   "outputs": [],
   "source": []
  },
  {
   "cell_type": "markdown",
   "id": "e463248f",
   "metadata": {},
   "source": [
    "## Calculate the age"
   ]
  },
  {
   "cell_type": "code",
   "execution_count": 55,
   "id": "cb75815e",
   "metadata": {},
   "outputs": [],
   "source": [
    "today = pd.to_datetime(\"today\")"
   ]
  },
  {
   "cell_type": "code",
   "execution_count": 56,
   "id": "d3806190",
   "metadata": {},
   "outputs": [],
   "source": [
    "birth = pd.to_datetime(\"1062001\",format=\"%d%m%Y\")"
   ]
  },
  {
   "cell_type": "code",
   "execution_count": 57,
   "id": "fe39d24e",
   "metadata": {},
   "outputs": [],
   "source": [
    "age1 = today - birth"
   ]
  },
  {
   "cell_type": "code",
   "execution_count": 58,
   "id": "8cc84826",
   "metadata": {},
   "outputs": [
    {
     "data": {
      "text/plain": [
       "Timedelta('8003 days 00:06:48.961713')"
      ]
     },
     "execution_count": 58,
     "metadata": {},
     "output_type": "execute_result"
    }
   ],
   "source": [
    "age1"
   ]
  },
  {
   "cell_type": "code",
   "execution_count": 60,
   "id": "98cdce59",
   "metadata": {},
   "outputs": [],
   "source": [
    "born_day = pd.to_datetime(\"1062001\",format=\"%d%m%Y\").day_name()"
   ]
  },
  {
   "cell_type": "code",
   "execution_count": 61,
   "id": "7ecc90d1",
   "metadata": {},
   "outputs": [
    {
     "data": {
      "text/plain": [
       "'Sunday'"
      ]
     },
     "execution_count": 61,
     "metadata": {},
     "output_type": "execute_result"
    }
   ],
   "source": [
    "born_day"
   ]
  },
  {
   "cell_type": "code",
   "execution_count": null,
   "id": "d01b3e33",
   "metadata": {},
   "outputs": [],
   "source": []
  }
 ],
 "metadata": {
  "kernelspec": {
   "display_name": "Python 3 (ipykernel)",
   "language": "python",
   "name": "python3"
  },
  "language_info": {
   "codemirror_mode": {
    "name": "ipython",
    "version": 3
   },
   "file_extension": ".py",
   "mimetype": "text/x-python",
   "name": "python",
   "nbconvert_exporter": "python",
   "pygments_lexer": "ipython3",
   "version": "3.9.13"
  }
 },
 "nbformat": 4,
 "nbformat_minor": 5
}
