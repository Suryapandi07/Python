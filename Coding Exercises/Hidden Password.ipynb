{
 "cells": [
  {
   "cell_type": "markdown",
   "id": "91ab0ea5",
   "metadata": {},
   "source": [
    "## In Python, you can use the getpass module from the standard library to get a password input from the user while hiding it on the screen"
   ]
  },
  {
   "cell_type": "code",
   "execution_count": 1,
   "id": "afb95109",
   "metadata": {},
   "outputs": [],
   "source": [
    "import getpass"
   ]
  },
  {
   "cell_type": "code",
   "execution_count": null,
   "id": "e8a3ef10",
   "metadata": {},
   "outputs": [],
   "source": [
    "password = getpass.getpass(\"Enter Your Password: \")\n",
    "print(\"Password Enterd\".password)"
   ]
  },
  {
   "cell_type": "markdown",
   "id": "fc73ef1d",
   "metadata": {},
   "source": [
    "#### When you run this code, the user will be prompted to enter their password, but the characters they type will not be visible on the screen. Once the user presses enter, the password entered by the user will be stored in the password variable."
   ]
  },
  {
   "cell_type": "markdown",
   "id": "4ba9e0fe",
   "metadata": {},
   "source": []
  }
 ],
 "metadata": {
  "kernelspec": {
   "display_name": "Python 3 (ipykernel)",
   "language": "python",
   "name": "python3"
  },
  "language_info": {
   "codemirror_mode": {
    "name": "ipython",
    "version": 3
   },
   "file_extension": ".py",
   "mimetype": "text/x-python",
   "name": "python",
   "nbconvert_exporter": "python",
   "pygments_lexer": "ipython3",
   "version": "3.9.13"
  }
 },
 "nbformat": 4,
 "nbformat_minor": 5
}
